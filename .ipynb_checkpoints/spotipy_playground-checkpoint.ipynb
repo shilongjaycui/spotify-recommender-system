{
 "cells": [
  {
   "cell_type": "code",
   "execution_count": 12,
   "id": "64a87252",
   "metadata": {},
   "outputs": [],
   "source": [
    "import spotipy\n",
    "from spotipy.oauth2 import SpotifyClientCredentials"
   ]
  },
  {
   "cell_type": "code",
   "execution_count": 13,
   "id": "bcb3119a",
   "metadata": {},
   "outputs": [],
   "source": [
    "spotify = spotipy.Spotify(client_credentials_manager=SpotifyClientCredentials())"
   ]
  },
  {
   "cell_type": "markdown",
   "id": "271ac76d",
   "metadata": {},
   "source": [
    "# Helper Functions"
   ]
  },
  {
   "cell_type": "markdown",
   "id": "18e2c5e5",
   "metadata": {},
   "source": [
    "## Fetching public content"
   ]
  },
  {
   "cell_type": "code",
   "execution_count": 14,
   "id": "26f5e496",
   "metadata": {
    "scrolled": false
   },
   "outputs": [
    {
     "name": "stdout",
     "output_type": "stream",
     "text": [
      "All categories:\n",
      " - Top Lists\n",
      " - Hip-Hop\n",
      " - Pop\n",
      " - Country\n",
      " - Rock\n",
      " - Pride\n",
      " - Summer\n",
      " - Workout\n",
      " - Latin\n",
      " - Jazz\n",
      " - Netflix\n",
      " - R&B\n",
      " - Mood\n",
      " - Sleep\n",
      " - Dance/Electronic\n",
      " - Indie\n",
      " - Christian & Gospel\n",
      " - Regional Mexican\n",
      " - Wellness\n",
      " - Chill\n"
     ]
    }
   ],
   "source": [
    "def get_categories():\n",
    "    categories = spotify.categories()['categories']['items']\n",
    "    category_names = [category['name'] for category in categories]\n",
    "    return category_names\n",
    "\n",
    "print('All categories:')\n",
    "category_names = get_categories()\n",
    "for category_name in category_names:\n",
    "    print(f' - {category_name}')"
   ]
  },
  {
   "cell_type": "code",
   "execution_count": 15,
   "id": "1beaf62a",
   "metadata": {
    "scrolled": true
   },
   "outputs": [
    {
     "name": "stdout",
     "output_type": "stream",
     "text": [
      "artists: [{'external_urls': {'spotify': 'https://open.spotify.com/artist/6M2wZ9GZgrQXHCFfjv46we'}, 'href': 'https://api.spotify.com/v1/artists/6M2wZ9GZgrQXHCFfjv46we', 'id': '6M2wZ9GZgrQXHCFfjv46we', 'name': 'Dua Lipa', 'type': 'artist', 'uri': 'spotify:artist:6M2wZ9GZgrQXHCFfjv46we'}]\n",
      "\n",
      "images: [{'height': 640, 'url': 'https://i.scdn.co/image/ab67616d0000b273bd26ede1ae69327010d49946', 'width': 640}, {'height': 300, 'url': 'https://i.scdn.co/image/ab67616d00001e02bd26ede1ae69327010d49946', 'width': 300}, {'height': 64, 'url': 'https://i.scdn.co/image/ab67616d00004851bd26ede1ae69327010d49946', 'width': 64}]\n",
      "\n",
      "name: Future Nostalgia\n",
      "\n",
      "popularity: 77\n",
      "\n",
      "release_date: 2020-03-27\n",
      "\n",
      "tracks: [{'artists': [{'external_urls': {'spotify': 'https://open.spotify.com/artist/6M2wZ9GZgrQXHCFfjv46we'}, 'href': 'https://api.spotify.com/v1/artists/6M2wZ9GZgrQXHCFfjv46we', 'id': '6M2wZ9GZgrQXHCFfjv46we', 'name': 'Dua Lipa', 'type': 'artist', 'uri': 'spotify:artist:6M2wZ9GZgrQXHCFfjv46we'}], 'available_markets': ['AD', 'AE', 'AG', 'AL', 'AM', 'AO', 'AR', 'AU', 'AZ', 'BA', 'BB', 'BD', 'BE', 'BF', 'BG', 'BH', 'BI', 'BJ', 'BN', 'BO', 'BR', 'BS', 'BT', 'BW', 'BY', 'BZ', 'CA', 'CD', 'CG', 'CI', 'CL', 'CM', 'CO', 'CR', 'CV', 'CW', 'CY', 'CZ', 'DJ', 'DK', 'DM', 'DO', 'DZ', 'EC', 'EE', 'EG', 'ES', 'FI', 'FJ', 'FM', 'FR', 'GA', 'GB', 'GD', 'GE', 'GH', 'GM', 'GN', 'GQ', 'GR', 'GT', 'GW', 'GY', 'HK', 'HN', 'HR', 'HT', 'HU', 'ID', 'IE', 'IL', 'IN', 'IQ', 'IS', 'IT', 'JM', 'JO', 'JP', 'KE', 'KG', 'KH', 'KI', 'KM', 'KN', 'KR', 'KW', 'KZ', 'LA', 'LB', 'LC', 'LI', 'LK', 'LR', 'LS', 'LT', 'LU', 'LV', 'LY', 'MA', 'MC', 'MD', 'ME', 'MG', 'MH', 'MK', 'ML', 'MN', 'MO', 'MR', 'MT', 'MU', 'MV', 'MW', 'MX', 'MY', 'MZ', 'NA', 'NE', 'NG', 'NI', 'NL', 'NO', 'NP', 'NR', 'NZ', 'OM', 'PA', 'PE', 'PG', 'PH', 'PK', 'PL', 'PS', 'PT', 'PW', 'PY', 'QA', 'RO', 'RS', 'RW', 'SA', 'SB', 'SC', 'SG', 'SI', 'SK', 'SL', 'SM', 'SN', 'SR', 'ST', 'SV', 'SZ', 'TD', 'TG', 'TH', 'TJ', 'TL', 'TN', 'TO', 'TR', 'TT', 'TV', 'TW', 'TZ', 'UA', 'UG', 'US', 'UY', 'UZ', 'VC', 'VE', 'VN', 'VU', 'WS', 'XK', 'ZA', 'ZM', 'ZW'], 'disc_number': 1, 'duration_ms': 184881, 'explicit': False, 'external_urls': {'spotify': 'https://open.spotify.com/track/6zrJLhslleCHby0wbUnvVy'}, 'href': 'https://api.spotify.com/v1/tracks/6zrJLhslleCHby0wbUnvVy', 'id': '6zrJLhslleCHby0wbUnvVy', 'is_local': False, 'name': 'Future Nostalgia', 'preview_url': 'https://p.scdn.co/mp3-preview/27890db8a1b0de533a6a963e36df3945ef7ebaa7?cid=56c1bdf1a80c42929dc1867b75a4b37a', 'track_number': 1, 'type': 'track', 'uri': 'spotify:track:6zrJLhslleCHby0wbUnvVy'}, {'artists': [{'external_urls': {'spotify': 'https://open.spotify.com/artist/6M2wZ9GZgrQXHCFfjv46we'}, 'href': 'https://api.spotify.com/v1/artists/6M2wZ9GZgrQXHCFfjv46we', 'id': '6M2wZ9GZgrQXHCFfjv46we', 'name': 'Dua Lipa', 'type': 'artist', 'uri': 'spotify:artist:6M2wZ9GZgrQXHCFfjv46we'}], 'available_markets': ['AD', 'AE', 'AG', 'AL', 'AM', 'AO', 'AR', 'AU', 'AZ', 'BA', 'BB', 'BD', 'BE', 'BF', 'BG', 'BH', 'BI', 'BJ', 'BN', 'BO', 'BR', 'BS', 'BT', 'BW', 'BY', 'BZ', 'CA', 'CD', 'CG', 'CI', 'CL', 'CM', 'CO', 'CR', 'CV', 'CW', 'CY', 'CZ', 'DJ', 'DK', 'DM', 'DO', 'DZ', 'EC', 'EE', 'EG', 'ES', 'FI', 'FJ', 'FM', 'FR', 'GA', 'GB', 'GD', 'GE', 'GH', 'GM', 'GN', 'GQ', 'GR', 'GT', 'GW', 'GY', 'HK', 'HN', 'HR', 'HT', 'HU', 'ID', 'IE', 'IL', 'IN', 'IQ', 'IS', 'IT', 'JM', 'JO', 'JP', 'KE', 'KG', 'KH', 'KI', 'KM', 'KN', 'KR', 'KW', 'KZ', 'LA', 'LB', 'LC', 'LI', 'LK', 'LR', 'LS', 'LT', 'LU', 'LV', 'LY', 'MA', 'MC', 'MD', 'ME', 'MG', 'MH', 'MK', 'ML', 'MN', 'MO', 'MR', 'MT', 'MU', 'MV', 'MW', 'MX', 'MY', 'MZ', 'NA', 'NE', 'NG', 'NI', 'NL', 'NO', 'NP', 'NR', 'NZ', 'OM', 'PA', 'PE', 'PG', 'PH', 'PK', 'PL', 'PS', 'PT', 'PW', 'PY', 'QA', 'RO', 'RS', 'RW', 'SA', 'SB', 'SC', 'SG', 'SI', 'SK', 'SL', 'SM', 'SN', 'SR', 'ST', 'SV', 'SZ', 'TD', 'TG', 'TH', 'TJ', 'TL', 'TN', 'TO', 'TR', 'TT', 'TV', 'TW', 'TZ', 'UA', 'UG', 'US', 'UY', 'UZ', 'VC', 'VE', 'VN', 'VU', 'WS', 'XK', 'ZA', 'ZM', 'ZW'], 'disc_number': 1, 'duration_ms': 183290, 'explicit': False, 'external_urls': {'spotify': 'https://open.spotify.com/track/3PfIrDoz19wz7qK7tYeu62'}, 'href': 'https://api.spotify.com/v1/tracks/3PfIrDoz19wz7qK7tYeu62', 'id': '3PfIrDoz19wz7qK7tYeu62', 'is_local': False, 'name': \"Don't Start Now\", 'preview_url': 'https://p.scdn.co/mp3-preview/9c0e91a42d58453a5e53690ea9f33f755339c2a9?cid=56c1bdf1a80c42929dc1867b75a4b37a', 'track_number': 2, 'type': 'track', 'uri': 'spotify:track:3PfIrDoz19wz7qK7tYeu62'}, {'artists': [{'external_urls': {'spotify': 'https://open.spotify.com/artist/6M2wZ9GZgrQXHCFfjv46we'}, 'href': 'https://api.spotify.com/v1/artists/6M2wZ9GZgrQXHCFfjv46we', 'id': '6M2wZ9GZgrQXHCFfjv46we', 'name': 'Dua Lipa', 'type': 'artist', 'uri': 'spotify:artist:6M2wZ9GZgrQXHCFfjv46we'}], 'available_markets': ['AD', 'AE', 'AG', 'AL', 'AM', 'AO', 'AR', 'AU', 'AZ', 'BA', 'BB', 'BD', 'BE', 'BF', 'BG', 'BH', 'BI', 'BJ', 'BN', 'BO', 'BR', 'BS', 'BT', 'BW', 'BY', 'BZ', 'CA', 'CD', 'CG', 'CI', 'CL', 'CM', 'CO', 'CR', 'CV', 'CW', 'CY', 'CZ', 'DJ', 'DK', 'DM', 'DO', 'DZ', 'EC', 'EE', 'EG', 'ES', 'FI', 'FJ', 'FM', 'FR', 'GA', 'GB', 'GD', 'GE', 'GH', 'GM', 'GN', 'GQ', 'GR', 'GT', 'GW', 'GY', 'HK', 'HN', 'HR', 'HT', 'HU', 'ID', 'IE', 'IL', 'IN', 'IQ', 'IS', 'IT', 'JM', 'JO', 'JP', 'KE', 'KG', 'KH', 'KI', 'KM', 'KN', 'KR', 'KW', 'KZ', 'LA', 'LB', 'LC', 'LI', 'LK', 'LR', 'LS', 'LT', 'LU', 'LV', 'LY', 'MA', 'MC', 'MD', 'ME', 'MG', 'MH', 'MK', 'ML', 'MN', 'MO', 'MR', 'MT', 'MU', 'MV', 'MW', 'MX', 'MY', 'MZ', 'NA', 'NE', 'NG', 'NI', 'NL', 'NO', 'NP', 'NR', 'NZ', 'OM', 'PA', 'PE', 'PG', 'PH', 'PK', 'PL', 'PS', 'PT', 'PW', 'PY', 'QA', 'RO', 'RS', 'RW', 'SA', 'SB', 'SC', 'SG', 'SI', 'SK', 'SL', 'SM', 'SN', 'SR', 'ST', 'SV', 'SZ', 'TD', 'TG', 'TH', 'TJ', 'TL', 'TN', 'TO', 'TR', 'TT', 'TV', 'TW', 'TZ', 'UA', 'UG', 'US', 'UY', 'UZ', 'VC', 'VE', 'VN', 'VU', 'WS', 'XK', 'ZA', 'ZM', 'ZW'], 'disc_number': 1, 'duration_ms': 209583, 'explicit': False, 'external_urls': {'spotify': 'https://open.spotify.com/track/2nMOodYNHBAQ3Kc1QNimZU'}, 'href': 'https://api.spotify.com/v1/tracks/2nMOodYNHBAQ3Kc1QNimZU', 'id': '2nMOodYNHBAQ3Kc1QNimZU', 'is_local': False, 'name': 'Cool', 'preview_url': 'https://p.scdn.co/mp3-preview/b2e461a21f5669f41ea59b99844ba5fe06bad7a3?cid=56c1bdf1a80c42929dc1867b75a4b37a', 'track_number': 3, 'type': 'track', 'uri': 'spotify:track:2nMOodYNHBAQ3Kc1QNimZU'}, {'artists': [{'external_urls': {'spotify': 'https://open.spotify.com/artist/6M2wZ9GZgrQXHCFfjv46we'}, 'href': 'https://api.spotify.com/v1/artists/6M2wZ9GZgrQXHCFfjv46we', 'id': '6M2wZ9GZgrQXHCFfjv46we', 'name': 'Dua Lipa', 'type': 'artist', 'uri': 'spotify:artist:6M2wZ9GZgrQXHCFfjv46we'}], 'available_markets': ['AD', 'AE', 'AG', 'AL', 'AM', 'AO', 'AR', 'AU', 'AZ', 'BA', 'BB', 'BD', 'BE', 'BF', 'BG', 'BH', 'BI', 'BJ', 'BN', 'BO', 'BR', 'BS', 'BT', 'BW', 'BY', 'BZ', 'CA', 'CD', 'CG', 'CI', 'CL', 'CM', 'CO', 'CR', 'CV', 'CW', 'CY', 'CZ', 'DJ', 'DK', 'DM', 'DO', 'DZ', 'EC', 'EE', 'EG', 'ES', 'FI', 'FJ', 'FM', 'FR', 'GA', 'GB', 'GD', 'GE', 'GH', 'GM', 'GN', 'GQ', 'GR', 'GT', 'GW', 'GY', 'HK', 'HN', 'HR', 'HT', 'HU', 'ID', 'IE', 'IL', 'IN', 'IQ', 'IS', 'IT', 'JM', 'JO', 'JP', 'KE', 'KG', 'KH', 'KI', 'KM', 'KN', 'KR', 'KW', 'KZ', 'LA', 'LB', 'LC', 'LI', 'LK', 'LR', 'LS', 'LT', 'LU', 'LV', 'LY', 'MA', 'MC', 'MD', 'ME', 'MG', 'MH', 'MK', 'ML', 'MN', 'MO', 'MR', 'MT', 'MU', 'MV', 'MW', 'MX', 'MY', 'MZ', 'NA', 'NE', 'NG', 'NI', 'NL', 'NO', 'NP', 'NR', 'NZ', 'OM', 'PA', 'PE', 'PG', 'PH', 'PK', 'PL', 'PS', 'PT', 'PW', 'PY', 'QA', 'RO', 'RS', 'RW', 'SA', 'SB', 'SC', 'SG', 'SI', 'SK', 'SL', 'SM', 'SN', 'SR', 'ST', 'SV', 'SZ', 'TD', 'TG', 'TH', 'TJ', 'TL', 'TN', 'TO', 'TR', 'TT', 'TV', 'TW', 'TZ', 'UA', 'UG', 'US', 'UY', 'UZ', 'VC', 'VE', 'VN', 'VU', 'WS', 'XK', 'ZA', 'ZM', 'ZW'], 'disc_number': 1, 'duration_ms': 193829, 'explicit': False, 'external_urls': {'spotify': 'https://open.spotify.com/track/3AzjcOeAmA57TIOr9zF1ZW'}, 'href': 'https://api.spotify.com/v1/tracks/3AzjcOeAmA57TIOr9zF1ZW', 'id': '3AzjcOeAmA57TIOr9zF1ZW', 'is_local': False, 'name': 'Physical', 'preview_url': 'https://p.scdn.co/mp3-preview/ccca0f028caf8410a9a5627324bfc980b86a8009?cid=56c1bdf1a80c42929dc1867b75a4b37a', 'track_number': 4, 'type': 'track', 'uri': 'spotify:track:3AzjcOeAmA57TIOr9zF1ZW'}, {'artists': [{'external_urls': {'spotify': 'https://open.spotify.com/artist/6M2wZ9GZgrQXHCFfjv46we'}, 'href': 'https://api.spotify.com/v1/artists/6M2wZ9GZgrQXHCFfjv46we', 'id': '6M2wZ9GZgrQXHCFfjv46we', 'name': 'Dua Lipa', 'type': 'artist', 'uri': 'spotify:artist:6M2wZ9GZgrQXHCFfjv46we'}], 'available_markets': ['AD', 'AE', 'AG', 'AL', 'AM', 'AO', 'AR', 'AU', 'AZ', 'BA', 'BB', 'BD', 'BE', 'BF', 'BG', 'BH', 'BI', 'BJ', 'BN', 'BO', 'BR', 'BS', 'BT', 'BW', 'BY', 'BZ', 'CA', 'CD', 'CG', 'CI', 'CL', 'CM', 'CO', 'CR', 'CV', 'CW', 'CY', 'CZ', 'DJ', 'DK', 'DM', 'DO', 'DZ', 'EC', 'EE', 'EG', 'ES', 'FI', 'FJ', 'FM', 'FR', 'GA', 'GB', 'GD', 'GE', 'GH', 'GM', 'GN', 'GQ', 'GR', 'GT', 'GW', 'GY', 'HK', 'HN', 'HR', 'HT', 'HU', 'ID', 'IE', 'IL', 'IN', 'IQ', 'IS', 'IT', 'JM', 'JO', 'JP', 'KE', 'KG', 'KH', 'KI', 'KM', 'KN', 'KR', 'KW', 'KZ', 'LA', 'LB', 'LC', 'LI', 'LK', 'LR', 'LS', 'LT', 'LU', 'LV', 'LY', 'MA', 'MC', 'MD', 'ME', 'MG', 'MH', 'MK', 'ML', 'MN', 'MO', 'MR', 'MT', 'MU', 'MV', 'MW', 'MX', 'MY', 'MZ', 'NA', 'NE', 'NG', 'NI', 'NL', 'NO', 'NP', 'NR', 'NZ', 'OM', 'PA', 'PE', 'PG', 'PH', 'PK', 'PL', 'PS', 'PT', 'PW', 'PY', 'QA', 'RO', 'RS', 'RW', 'SA', 'SB', 'SC', 'SG', 'SI', 'SK', 'SL', 'SM', 'SN', 'SR', 'ST', 'SV', 'SZ', 'TD', 'TG', 'TH', 'TJ', 'TL', 'TN', 'TO', 'TR', 'TT', 'TV', 'TW', 'TZ', 'UA', 'UG', 'US', 'UY', 'UZ', 'VC', 'VE', 'VN', 'VU', 'WS', 'XK', 'ZA', 'ZM', 'ZW'], 'disc_number': 1, 'duration_ms': 203807, 'explicit': False, 'external_urls': {'spotify': 'https://open.spotify.com/track/39LLxExYz6ewLAcYrzQQyP'}, 'href': 'https://api.spotify.com/v1/tracks/39LLxExYz6ewLAcYrzQQyP', 'id': '39LLxExYz6ewLAcYrzQQyP', 'is_local': False, 'name': 'Levitating', 'preview_url': 'https://p.scdn.co/mp3-preview/130e18a8f12e319b06032640c6b75e3881719684?cid=56c1bdf1a80c42929dc1867b75a4b37a', 'track_number': 5, 'type': 'track', 'uri': 'spotify:track:39LLxExYz6ewLAcYrzQQyP'}, {'artists': [{'external_urls': {'spotify': 'https://open.spotify.com/artist/6M2wZ9GZgrQXHCFfjv46we'}, 'href': 'https://api.spotify.com/v1/artists/6M2wZ9GZgrQXHCFfjv46we', 'id': '6M2wZ9GZgrQXHCFfjv46we', 'name': 'Dua Lipa', 'type': 'artist', 'uri': 'spotify:artist:6M2wZ9GZgrQXHCFfjv46we'}], 'available_markets': ['AD', 'AE', 'AG', 'AL', 'AM', 'AO', 'AR', 'AU', 'AZ', 'BA', 'BB', 'BD', 'BE', 'BF', 'BG', 'BH', 'BI', 'BJ', 'BN', 'BO', 'BR', 'BS', 'BT', 'BW', 'BY', 'BZ', 'CA', 'CD', 'CG', 'CI', 'CL', 'CM', 'CO', 'CR', 'CV', 'CW', 'CY', 'CZ', 'DJ', 'DK', 'DM', 'DO', 'DZ', 'EC', 'EE', 'EG', 'ES', 'FI', 'FJ', 'FM', 'FR', 'GA', 'GB', 'GD', 'GE', 'GH', 'GM', 'GN', 'GQ', 'GR', 'GT', 'GW', 'GY', 'HK', 'HN', 'HR', 'HT', 'HU', 'ID', 'IE', 'IL', 'IN', 'IQ', 'IS', 'IT', 'JM', 'JO', 'JP', 'KE', 'KG', 'KH', 'KI', 'KM', 'KN', 'KR', 'KW', 'KZ', 'LA', 'LB', 'LC', 'LI', 'LK', 'LR', 'LS', 'LT', 'LU', 'LV', 'LY', 'MA', 'MC', 'MD', 'ME', 'MG', 'MH', 'MK', 'ML', 'MN', 'MO', 'MR', 'MT', 'MU', 'MV', 'MW', 'MX', 'MY', 'MZ', 'NA', 'NE', 'NG', 'NI', 'NL', 'NO', 'NP', 'NR', 'NZ', 'OM', 'PA', 'PE', 'PG', 'PH', 'PK', 'PL', 'PS', 'PT', 'PW', 'PY', 'QA', 'RO', 'RS', 'RW', 'SA', 'SB', 'SC', 'SG', 'SI', 'SK', 'SL', 'SM', 'SN', 'SR', 'ST', 'SV', 'SZ', 'TD', 'TG', 'TH', 'TJ', 'TL', 'TN', 'TO', 'TR', 'TT', 'TV', 'TW', 'TZ', 'UA', 'UG', 'US', 'UY', 'UZ', 'VC', 'VE', 'VN', 'VU', 'WS', 'XK', 'ZA', 'ZM', 'ZW'], 'disc_number': 1, 'duration_ms': 194607, 'explicit': False, 'external_urls': {'spotify': 'https://open.spotify.com/track/6DXZiYUbrYgrVIhfX3U9Z2'}, 'href': 'https://api.spotify.com/v1/tracks/6DXZiYUbrYgrVIhfX3U9Z2', 'id': '6DXZiYUbrYgrVIhfX3U9Z2', 'is_local': False, 'name': 'Pretty Please', 'preview_url': 'https://p.scdn.co/mp3-preview/6ba14bffe609e3bb61f99846f90caad053ecd5f3?cid=56c1bdf1a80c42929dc1867b75a4b37a', 'track_number': 6, 'type': 'track', 'uri': 'spotify:track:6DXZiYUbrYgrVIhfX3U9Z2'}, {'artists': [{'external_urls': {'spotify': 'https://open.spotify.com/artist/6M2wZ9GZgrQXHCFfjv46we'}, 'href': 'https://api.spotify.com/v1/artists/6M2wZ9GZgrQXHCFfjv46we', 'id': '6M2wZ9GZgrQXHCFfjv46we', 'name': 'Dua Lipa', 'type': 'artist', 'uri': 'spotify:artist:6M2wZ9GZgrQXHCFfjv46we'}], 'available_markets': ['AD', 'AE', 'AG', 'AL', 'AM', 'AO', 'AR', 'AU', 'AZ', 'BA', 'BB', 'BD', 'BE', 'BF', 'BG', 'BH', 'BI', 'BJ', 'BN', 'BO', 'BR', 'BS', 'BT', 'BW', 'BY', 'BZ', 'CA', 'CD', 'CG', 'CI', 'CL', 'CM', 'CO', 'CR', 'CV', 'CW', 'CY', 'CZ', 'DJ', 'DK', 'DM', 'DO', 'DZ', 'EC', 'EE', 'EG', 'ES', 'FI', 'FJ', 'FM', 'FR', 'GA', 'GB', 'GD', 'GE', 'GH', 'GM', 'GN', 'GQ', 'GR', 'GT', 'GW', 'GY', 'HK', 'HN', 'HR', 'HT', 'HU', 'ID', 'IE', 'IL', 'IN', 'IQ', 'IS', 'IT', 'JM', 'JO', 'JP', 'KE', 'KG', 'KH', 'KI', 'KM', 'KN', 'KR', 'KW', 'KZ', 'LA', 'LB', 'LC', 'LI', 'LK', 'LR', 'LS', 'LT', 'LU', 'LV', 'LY', 'MA', 'MC', 'MD', 'ME', 'MG', 'MH', 'MK', 'ML', 'MN', 'MO', 'MR', 'MT', 'MU', 'MV', 'MW', 'MX', 'MY', 'MZ', 'NA', 'NE', 'NG', 'NI', 'NL', 'NO', 'NP', 'NR', 'NZ', 'OM', 'PA', 'PE', 'PG', 'PH', 'PK', 'PL', 'PS', 'PT', 'PW', 'PY', 'QA', 'RO', 'RS', 'RW', 'SA', 'SB', 'SC', 'SG', 'SI', 'SK', 'SL', 'SM', 'SN', 'SR', 'ST', 'SV', 'SZ', 'TD', 'TG', 'TH', 'TJ', 'TL', 'TN', 'TO', 'TR', 'TT', 'TV', 'TW', 'TZ', 'UA', 'UG', 'US', 'UY', 'UZ', 'VC', 'VE', 'VN', 'VU', 'WS', 'XK', 'ZA', 'ZM', 'ZW'], 'disc_number': 1, 'duration_ms': 208505, 'explicit': False, 'external_urls': {'spotify': 'https://open.spotify.com/track/1nYeVF5vIBxMxfPoL0SIWg'}, 'href': 'https://api.spotify.com/v1/tracks/1nYeVF5vIBxMxfPoL0SIWg', 'id': '1nYeVF5vIBxMxfPoL0SIWg', 'is_local': False, 'name': 'Hallucinate', 'preview_url': 'https://p.scdn.co/mp3-preview/d1b8c85be1a53f78007d9bb7d9dace199ce36de8?cid=56c1bdf1a80c42929dc1867b75a4b37a', 'track_number': 7, 'type': 'track', 'uri': 'spotify:track:1nYeVF5vIBxMxfPoL0SIWg'}, {'artists': [{'external_urls': {'spotify': 'https://open.spotify.com/artist/6M2wZ9GZgrQXHCFfjv46we'}, 'href': 'https://api.spotify.com/v1/artists/6M2wZ9GZgrQXHCFfjv46we', 'id': '6M2wZ9GZgrQXHCFfjv46we', 'name': 'Dua Lipa', 'type': 'artist', 'uri': 'spotify:artist:6M2wZ9GZgrQXHCFfjv46we'}], 'available_markets': ['AD', 'AE', 'AG', 'AL', 'AM', 'AO', 'AR', 'AU', 'AZ', 'BA', 'BB', 'BD', 'BE', 'BF', 'BG', 'BH', 'BI', 'BJ', 'BN', 'BO', 'BR', 'BS', 'BT', 'BW', 'BY', 'BZ', 'CA', 'CD', 'CG', 'CI', 'CL', 'CM', 'CO', 'CR', 'CV', 'CW', 'CY', 'CZ', 'DJ', 'DK', 'DM', 'DO', 'DZ', 'EC', 'EE', 'EG', 'ES', 'FI', 'FJ', 'FM', 'FR', 'GA', 'GB', 'GD', 'GE', 'GH', 'GM', 'GN', 'GQ', 'GR', 'GT', 'GW', 'GY', 'HK', 'HN', 'HR', 'HT', 'HU', 'ID', 'IE', 'IL', 'IN', 'IQ', 'IS', 'IT', 'JM', 'JO', 'JP', 'KE', 'KG', 'KH', 'KI', 'KM', 'KN', 'KR', 'KW', 'KZ', 'LA', 'LB', 'LC', 'LI', 'LK', 'LR', 'LS', 'LT', 'LU', 'LV', 'LY', 'MA', 'MC', 'MD', 'ME', 'MG', 'MH', 'MK', 'ML', 'MN', 'MO', 'MR', 'MT', 'MU', 'MV', 'MW', 'MX', 'MY', 'MZ', 'NA', 'NE', 'NG', 'NI', 'NL', 'NO', 'NP', 'NR', 'NZ', 'OM', 'PA', 'PE', 'PG', 'PH', 'PK', 'PL', 'PS', 'PT', 'PW', 'PY', 'QA', 'RO', 'RS', 'RW', 'SA', 'SB', 'SC', 'SG', 'SI', 'SK', 'SL', 'SM', 'SN', 'SR', 'ST', 'SV', 'SZ', 'TD', 'TG', 'TH', 'TJ', 'TL', 'TN', 'TO', 'TR', 'TT', 'TV', 'TW', 'TZ', 'UA', 'UG', 'US', 'UY', 'UZ', 'VC', 'VE', 'VN', 'VU', 'WS', 'XK', 'ZA', 'ZM', 'ZW'], 'disc_number': 1, 'duration_ms': 258004, 'explicit': False, 'external_urls': {'spotify': 'https://open.spotify.com/track/4rPkN1FMzQyFNP9cLUGIIB'}, 'href': 'https://api.spotify.com/v1/tracks/4rPkN1FMzQyFNP9cLUGIIB', 'id': '4rPkN1FMzQyFNP9cLUGIIB', 'is_local': False, 'name': 'Love Again', 'preview_url': 'https://p.scdn.co/mp3-preview/308115a2069e838abf0de4c021f4ee024f0dda13?cid=56c1bdf1a80c42929dc1867b75a4b37a', 'track_number': 8, 'type': 'track', 'uri': 'spotify:track:4rPkN1FMzQyFNP9cLUGIIB'}, {'artists': [{'external_urls': {'spotify': 'https://open.spotify.com/artist/6M2wZ9GZgrQXHCFfjv46we'}, 'href': 'https://api.spotify.com/v1/artists/6M2wZ9GZgrQXHCFfjv46we', 'id': '6M2wZ9GZgrQXHCFfjv46we', 'name': 'Dua Lipa', 'type': 'artist', 'uri': 'spotify:artist:6M2wZ9GZgrQXHCFfjv46we'}], 'available_markets': ['AD', 'AE', 'AG', 'AL', 'AM', 'AO', 'AR', 'AU', 'AZ', 'BA', 'BB', 'BD', 'BE', 'BF', 'BG', 'BH', 'BI', 'BJ', 'BN', 'BO', 'BR', 'BS', 'BT', 'BW', 'BY', 'BZ', 'CA', 'CD', 'CG', 'CI', 'CL', 'CM', 'CO', 'CR', 'CV', 'CW', 'CY', 'CZ', 'DJ', 'DK', 'DM', 'DO', 'DZ', 'EC', 'EE', 'EG', 'ES', 'FI', 'FJ', 'FM', 'FR', 'GA', 'GB', 'GD', 'GE', 'GH', 'GM', 'GN', 'GQ', 'GR', 'GT', 'GW', 'GY', 'HK', 'HN', 'HR', 'HT', 'HU', 'ID', 'IE', 'IL', 'IN', 'IQ', 'IS', 'IT', 'JM', 'JO', 'JP', 'KE', 'KG', 'KH', 'KI', 'KM', 'KN', 'KR', 'KW', 'KZ', 'LA', 'LB', 'LC', 'LI', 'LK', 'LR', 'LS', 'LT', 'LU', 'LV', 'LY', 'MA', 'MC', 'MD', 'ME', 'MG', 'MH', 'MK', 'ML', 'MN', 'MO', 'MR', 'MT', 'MU', 'MV', 'MW', 'MX', 'MY', 'MZ', 'NA', 'NE', 'NG', 'NI', 'NL', 'NO', 'NP', 'NR', 'NZ', 'OM', 'PA', 'PE', 'PG', 'PH', 'PK', 'PL', 'PS', 'PT', 'PW', 'PY', 'QA', 'RO', 'RS', 'RW', 'SA', 'SB', 'SC', 'SG', 'SI', 'SK', 'SL', 'SM', 'SN', 'SR', 'ST', 'SV', 'SZ', 'TD', 'TG', 'TH', 'TJ', 'TL', 'TN', 'TO', 'TR', 'TT', 'TV', 'TW', 'TZ', 'UA', 'UG', 'US', 'UY', 'UZ', 'VC', 'VE', 'VN', 'VU', 'WS', 'XK', 'ZA', 'ZM', 'ZW'], 'disc_number': 1, 'duration_ms': 221820, 'explicit': False, 'external_urls': {'spotify': 'https://open.spotify.com/track/017PF4Q3l4DBUiWoXk4OWT'}, 'href': 'https://api.spotify.com/v1/tracks/017PF4Q3l4DBUiWoXk4OWT', 'id': '017PF4Q3l4DBUiWoXk4OWT', 'is_local': False, 'name': 'Break My Heart', 'preview_url': 'https://p.scdn.co/mp3-preview/e1e63b8e31c4ab2d28dc988c5ec40d4084206b64?cid=56c1bdf1a80c42929dc1867b75a4b37a', 'track_number': 9, 'type': 'track', 'uri': 'spotify:track:017PF4Q3l4DBUiWoXk4OWT'}, {'artists': [{'external_urls': {'spotify': 'https://open.spotify.com/artist/6M2wZ9GZgrQXHCFfjv46we'}, 'href': 'https://api.spotify.com/v1/artists/6M2wZ9GZgrQXHCFfjv46we', 'id': '6M2wZ9GZgrQXHCFfjv46we', 'name': 'Dua Lipa', 'type': 'artist', 'uri': 'spotify:artist:6M2wZ9GZgrQXHCFfjv46we'}], 'available_markets': ['AD', 'AE', 'AG', 'AL', 'AM', 'AO', 'AR', 'AU', 'AZ', 'BA', 'BB', 'BD', 'BE', 'BF', 'BG', 'BH', 'BI', 'BJ', 'BN', 'BO', 'BR', 'BS', 'BT', 'BW', 'BY', 'BZ', 'CA', 'CD', 'CG', 'CI', 'CL', 'CM', 'CO', 'CR', 'CV', 'CW', 'CY', 'CZ', 'DJ', 'DK', 'DM', 'DO', 'DZ', 'EC', 'EE', 'EG', 'ES', 'FI', 'FJ', 'FM', 'FR', 'GA', 'GB', 'GD', 'GE', 'GH', 'GM', 'GN', 'GQ', 'GR', 'GT', 'GW', 'GY', 'HK', 'HN', 'HR', 'HT', 'HU', 'ID', 'IE', 'IL', 'IN', 'IQ', 'IS', 'IT', 'JM', 'JO', 'JP', 'KE', 'KG', 'KH', 'KI', 'KM', 'KN', 'KR', 'KW', 'KZ', 'LA', 'LB', 'LC', 'LI', 'LK', 'LR', 'LS', 'LT', 'LU', 'LV', 'LY', 'MA', 'MC', 'MD', 'ME', 'MG', 'MH', 'MK', 'ML', 'MN', 'MO', 'MR', 'MT', 'MU', 'MV', 'MW', 'MX', 'MY', 'MZ', 'NA', 'NE', 'NG', 'NI', 'NL', 'NO', 'NP', 'NR', 'NZ', 'OM', 'PA', 'PE', 'PG', 'PH', 'PK', 'PL', 'PS', 'PT', 'PW', 'PY', 'QA', 'RO', 'RS', 'RW', 'SA', 'SB', 'SC', 'SG', 'SI', 'SK', 'SL', 'SM', 'SN', 'SR', 'ST', 'SV', 'SZ', 'TD', 'TG', 'TH', 'TJ', 'TL', 'TN', 'TO', 'TR', 'TT', 'TV', 'TW', 'TZ', 'UA', 'UG', 'US', 'UY', 'UZ', 'VC', 'VE', 'VN', 'VU', 'WS', 'XK', 'ZA', 'ZM', 'ZW'], 'disc_number': 1, 'duration_ms': 218754, 'explicit': True, 'external_urls': {'spotify': 'https://open.spotify.com/track/6uAFJ75WDAoAPyCWJAtvks'}, 'href': 'https://api.spotify.com/v1/tracks/6uAFJ75WDAoAPyCWJAtvks', 'id': '6uAFJ75WDAoAPyCWJAtvks', 'is_local': False, 'name': 'Good In Bed', 'preview_url': 'https://p.scdn.co/mp3-preview/d6e1b0bc09a07d3c36a4cefa24af8ccac2bce620?cid=56c1bdf1a80c42929dc1867b75a4b37a', 'track_number': 10, 'type': 'track', 'uri': 'spotify:track:6uAFJ75WDAoAPyCWJAtvks'}, {'artists': [{'external_urls': {'spotify': 'https://open.spotify.com/artist/6M2wZ9GZgrQXHCFfjv46we'}, 'href': 'https://api.spotify.com/v1/artists/6M2wZ9GZgrQXHCFfjv46we', 'id': '6M2wZ9GZgrQXHCFfjv46we', 'name': 'Dua Lipa', 'type': 'artist', 'uri': 'spotify:artist:6M2wZ9GZgrQXHCFfjv46we'}], 'available_markets': ['AD', 'AE', 'AG', 'AL', 'AM', 'AO', 'AR', 'AU', 'AZ', 'BA', 'BB', 'BD', 'BE', 'BF', 'BG', 'BH', 'BI', 'BJ', 'BN', 'BO', 'BR', 'BS', 'BT', 'BW', 'BY', 'BZ', 'CA', 'CD', 'CG', 'CI', 'CL', 'CM', 'CO', 'CR', 'CV', 'CW', 'CY', 'CZ', 'DJ', 'DK', 'DM', 'DO', 'DZ', 'EC', 'EE', 'EG', 'ES', 'FI', 'FJ', 'FM', 'FR', 'GA', 'GB', 'GD', 'GE', 'GH', 'GM', 'GN', 'GQ', 'GR', 'GT', 'GW', 'GY', 'HK', 'HN', 'HR', 'HT', 'HU', 'ID', 'IE', 'IL', 'IN', 'IQ', 'IS', 'IT', 'JM', 'JO', 'JP', 'KE', 'KG', 'KH', 'KI', 'KM', 'KN', 'KR', 'KW', 'KZ', 'LA', 'LB', 'LC', 'LI', 'LK', 'LR', 'LS', 'LT', 'LU', 'LV', 'LY', 'MA', 'MC', 'MD', 'ME', 'MG', 'MH', 'MK', 'ML', 'MN', 'MO', 'MR', 'MT', 'MU', 'MV', 'MW', 'MX', 'MY', 'MZ', 'NA', 'NE', 'NG', 'NI', 'NL', 'NO', 'NP', 'NR', 'NZ', 'OM', 'PA', 'PE', 'PG', 'PH', 'PK', 'PL', 'PS', 'PT', 'PW', 'PY', 'QA', 'RO', 'RS', 'RW', 'SA', 'SB', 'SC', 'SG', 'SI', 'SK', 'SL', 'SM', 'SN', 'SR', 'ST', 'SV', 'SZ', 'TD', 'TG', 'TH', 'TJ', 'TL', 'TN', 'TO', 'TR', 'TT', 'TV', 'TW', 'TZ', 'UA', 'UG', 'US', 'UY', 'UZ', 'VC', 'VE', 'VN', 'VU', 'WS', 'XK', 'ZA', 'ZM', 'ZW'], 'disc_number': 1, 'duration_ms': 166266, 'explicit': False, 'external_urls': {'spotify': 'https://open.spotify.com/track/0vQcyuMEfRBd21ojZ62N2L'}, 'href': 'https://api.spotify.com/v1/tracks/0vQcyuMEfRBd21ojZ62N2L', 'id': '0vQcyuMEfRBd21ojZ62N2L', 'is_local': False, 'name': 'Boys Will Be Boys', 'preview_url': 'https://p.scdn.co/mp3-preview/5c2b697e34f139bb56d1020e75868ae7c2a5d741?cid=56c1bdf1a80c42929dc1867b75a4b37a', 'track_number': 11, 'type': 'track', 'uri': 'spotify:track:0vQcyuMEfRBd21ojZ62N2L'}]\n",
      "\n"
     ]
    }
   ],
   "source": [
    "def get_album(album_id):\n",
    "    '''\n",
    "    Get information on an album.\n",
    "    \n",
    "    param album_id: string\n",
    "    \n",
    "    return: dict\n",
    "     - artists: list of dict (artist object)\n",
    "     - images: list of dict (image object)\n",
    "     - name: string\n",
    "     - popularity: int\n",
    "     - release_date: string\n",
    "     - tracks: list of dict (track object)\n",
    "    \n",
    "    '''\n",
    "    \n",
    "    all_album_info = spotify.album(album_id)\n",
    "    \n",
    "    selected_album_info = dict()\n",
    "    selected_album_info['artists'] = all_album_info['artists']\n",
    "    selected_album_info['images'] = all_album_info['images']\n",
    "    selected_album_info['name'] = all_album_info['name']\n",
    "    selected_album_info['popularity'] = all_album_info['popularity']\n",
    "    selected_album_info['release_date'] = all_album_info['release_date']\n",
    "    selected_album_info['tracks'] = all_album_info['tracks']['items']\n",
    "        \n",
    "    return selected_album_info\n",
    "\n",
    "future_nostalgia = get_album('7fJJK56U9fHixgO0HQkhtI')\n",
    "for key in future_nostalgia.keys():\n",
    "    print(f'{key}: {future_nostalgia[key]}\\n')"
   ]
  },
  {
   "cell_type": "code",
   "execution_count": 16,
   "id": "cc38e846",
   "metadata": {},
   "outputs": [
    {
     "name": "stdout",
     "output_type": "stream",
     "text": [
      "num_followers: 34822802\n",
      "\n",
      "genres: ['dance pop', 'pop', 'uk pop']\n",
      "\n",
      "images: [{'height': 640, 'url': 'https://i.scdn.co/image/ab6761610000e5ebd42a27db3286b58553da8858', 'width': 640}, {'height': 320, 'url': 'https://i.scdn.co/image/ab67616100005174d42a27db3286b58553da8858', 'width': 320}, {'height': 160, 'url': 'https://i.scdn.co/image/ab6761610000f178d42a27db3286b58553da8858', 'width': 160}]\n",
      "\n",
      "name: Dua Lipa\n",
      "\n",
      "popularity: 89\n",
      "\n"
     ]
    }
   ],
   "source": [
    "def get_artist(artist_id):\n",
    "    '''\n",
    "    Get information on an artist.\n",
    "    \n",
    "    param artist_id: string\n",
    "    \n",
    "    return: dict\n",
    "     - num_followers: int\n",
    "     - genres: list of string\n",
    "     - images: list of dict (image object)\n",
    "     - name: string\n",
    "     - popularity: int\n",
    "     \n",
    "    '''\n",
    "    \n",
    "    all_artist_info = spotify.artist(artist_id)\n",
    "    \n",
    "    selected_artist_info = dict()\n",
    "    selected_artist_info['num_followers'] = all_artist_info['followers']['total']\n",
    "    selected_artist_info['genres'] = all_artist_info['genres']\n",
    "    selected_artist_info['images'] = all_artist_info['images']\n",
    "    selected_artist_info['name'] = all_artist_info['name']\n",
    "    selected_artist_info['popularity'] = all_artist_info['popularity']\n",
    "    \n",
    "    return selected_artist_info\n",
    "\n",
    "dua_lipa = get_artist('6M2wZ9GZgrQXHCFfjv46we')\n",
    "for key in dua_lipa.keys():\n",
    "    print(f'{key}: {dua_lipa[key]}\\n')"
   ]
  },
  {
   "cell_type": "code",
   "execution_count": 17,
   "id": "f35a1c65",
   "metadata": {},
   "outputs": [
    {
     "data": {
      "text/plain": [
       "{'Future Nostalgia': '6zrJLhslleCHby0wbUnvVy',\n",
       " \"Don't Start Now\": '3PfIrDoz19wz7qK7tYeu62',\n",
       " 'Cool': '2nMOodYNHBAQ3Kc1QNimZU',\n",
       " 'Physical': '3AzjcOeAmA57TIOr9zF1ZW',\n",
       " 'Levitating': '39LLxExYz6ewLAcYrzQQyP',\n",
       " 'Pretty Please': '6DXZiYUbrYgrVIhfX3U9Z2',\n",
       " 'Hallucinate': '1nYeVF5vIBxMxfPoL0SIWg',\n",
       " 'Love Again': '4rPkN1FMzQyFNP9cLUGIIB',\n",
       " 'Break My Heart': '017PF4Q3l4DBUiWoXk4OWT',\n",
       " 'Good In Bed': '6uAFJ75WDAoAPyCWJAtvks',\n",
       " 'Boys Will Be Boys': '0vQcyuMEfRBd21ojZ62N2L'}"
      ]
     },
     "execution_count": 17,
     "metadata": {},
     "output_type": "execute_result"
    }
   ],
   "source": [
    "future_nostalgia_tracks = {track['name']: track['id'] for track in future_nostalgia['tracks']}\n",
    "future_nostalgia_tracks"
   ]
  },
  {
   "cell_type": "code",
   "execution_count": 18,
   "id": "d2632c5b",
   "metadata": {},
   "outputs": [
    {
     "data": {
      "text/plain": [
       "{'artists': [{'external_urls': {'spotify': 'https://open.spotify.com/artist/6M2wZ9GZgrQXHCFfjv46we'},\n",
       "   'href': 'https://api.spotify.com/v1/artists/6M2wZ9GZgrQXHCFfjv46we',\n",
       "   'id': '6M2wZ9GZgrQXHCFfjv46we',\n",
       "   'name': 'Dua Lipa',\n",
       "   'type': 'artist',\n",
       "   'uri': 'spotify:artist:6M2wZ9GZgrQXHCFfjv46we'}],\n",
       " 'explicit': False,\n",
       " 'name': 'Love Again',\n",
       " 'popularity': 78}"
      ]
     },
     "execution_count": 18,
     "metadata": {},
     "output_type": "execute_result"
    }
   ],
   "source": [
    "def get_track(track_id):\n",
    "    '''\n",
    "    Get information on a track.\n",
    "    \n",
    "    param track_id: string\n",
    "    \n",
    "    return: dict\n",
    "     - artists: list of dict (artist object)\n",
    "     - explicit: boolean\n",
    "     - name: string\n",
    "     - popularity: int\n",
    "     \n",
    "    '''\n",
    "    \n",
    "    all_track_info = spotify.track(track_id)\n",
    "    \n",
    "    selected_track_info = dict()\n",
    "    selected_track_info['artists'] = all_track_info['artists']\n",
    "    selected_track_info['explicit'] = all_track_info['explicit']\n",
    "    selected_track_info['name'] = all_track_info['name']\n",
    "    selected_track_info['popularity'] = all_track_info['popularity']\n",
    "    \n",
    "    return selected_track_info\n",
    "    \n",
    "\n",
    "love_again = get_track('4rPkN1FMzQyFNP9cLUGIIB')\n",
    "love_again"
   ]
  },
  {
   "cell_type": "code",
   "execution_count": 25,
   "id": "47d5c253",
   "metadata": {},
   "outputs": [
    {
     "data": {
      "text/plain": [
       "[{'acousticness': 0.00173,\n",
       "  'danceability': 0.659,\n",
       "  'duration_ms': 258004,\n",
       "  'energy': 0.667,\n",
       "  'instrumentalness': 2.85e-05,\n",
       "  'key': 11,\n",
       "  'loudness': -4.668,\n",
       "  'mode': 0,\n",
       "  'speechiness': 0.0339,\n",
       "  'tempo': 115.982,\n",
       "  'valence': 0.468}]"
      ]
     },
     "execution_count": 25,
     "metadata": {},
     "output_type": "execute_result"
    }
   ],
   "source": [
    "def get_audio_features(tracks_ids):\n",
    "    '''\n",
    "    Get the audio features of tracks.\n",
    "    \n",
    "    param tracks_ids: list of string (track_id)\n",
    "    \n",
    "    return: list of dict\n",
    "     - acousticness: float\n",
    "     - danceability: float\n",
    "     - duration_ms: int\n",
    "     - energy: float\n",
    "     - instrumentalness: float\n",
    "     - key: int\n",
    "     - loudness: float\n",
    "     - mode: int\n",
    "     - speechiness: float\n",
    "     - tempo: float\n",
    "     - valence: float\n",
    "     \n",
    "    '''\n",
    "    \n",
    "    arr = spotify.audio_features(tracks_ids)\n",
    "    \n",
    "    ret = []\n",
    "    for all_audio_features in arr:\n",
    "        selected_audio_features = dict()\n",
    "        selected_audio_features['acousticness'] = all_audio_features['acousticness']\n",
    "        selected_audio_features['danceability'] = all_audio_features['danceability']\n",
    "        selected_audio_features['duration_ms'] = all_audio_features['duration_ms']\n",
    "        selected_audio_features['energy'] = all_audio_features['energy']\n",
    "        selected_audio_features['instrumentalness'] = all_audio_features['instrumentalness']\n",
    "        selected_audio_features['key'] = all_audio_features['key']\n",
    "        selected_audio_features['loudness'] = all_audio_features['loudness']\n",
    "        selected_audio_features['mode'] = all_audio_features['mode']\n",
    "        selected_audio_features['speechiness'] = all_audio_features['speechiness']\n",
    "        selected_audio_features['tempo'] = all_audio_features['tempo']\n",
    "        selected_audio_features['valence'] = all_audio_features['valence']\n",
    "        \n",
    "        ret.append(selected_audio_features)\n",
    "\n",
    "    return ret\n",
    "\n",
    "love_again_audio_features = get_audio_features([future_nostalgia_tracks['Love Again']])\n",
    "love_again_audio_features"
   ]
  },
  {
   "cell_type": "code",
   "execution_count": 7,
   "id": "f9234505",
   "metadata": {
    "scrolled": true
   },
   "outputs": [],
   "source": [
    "'''maybe: interpret audio analysis'''\n",
    "\n",
    "def get_audio_analysis(track_id):\n",
    "    audio_analysis = spotify.audio_analysis(track_id)\n",
    "    print(audio_analysis.keys())\n",
    "    return audio_analysis\n",
    "\n",
    "# levitating_audio_analysis = get_audio_analysis(future_nostalgia_tracks['Levitating'])\n",
    "# levitating_audio_analysis"
   ]
  },
  {
   "cell_type": "code",
   "execution_count": null,
   "id": "fdb3bce2",
   "metadata": {},
   "outputs": [],
   "source": []
  }
 ],
 "metadata": {
  "kernelspec": {
   "display_name": "Python 3 (ipykernel)",
   "language": "python",
   "name": "python3"
  },
  "language_info": {
   "codemirror_mode": {
    "name": "ipython",
    "version": 3
   },
   "file_extension": ".py",
   "mimetype": "text/x-python",
   "name": "python",
   "nbconvert_exporter": "python",
   "pygments_lexer": "ipython3",
   "version": "3.9.7"
  }
 },
 "nbformat": 4,
 "nbformat_minor": 5
}
