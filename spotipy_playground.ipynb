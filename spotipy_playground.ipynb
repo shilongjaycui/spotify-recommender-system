{
 "cells": [
  {
   "cell_type": "code",
   "execution_count": 46,
   "id": "64a87252",
   "metadata": {},
   "outputs": [],
   "source": [
    "import spotipy\n",
    "from spotipy.oauth2 import SpotifyClientCredentials"
   ]
  },
  {
   "cell_type": "code",
   "execution_count": 47,
   "id": "bcb3119a",
   "metadata": {},
   "outputs": [],
   "source": [
    "spotify = spotipy.Spotify(client_credentials_manager=SpotifyClientCredentials())"
   ]
  },
  {
   "cell_type": "markdown",
   "id": "271ac76d",
   "metadata": {},
   "source": [
    "# Helper Functions"
   ]
  },
  {
   "cell_type": "markdown",
   "id": "18e2c5e5",
   "metadata": {},
   "source": [
    "## Fetching public data"
   ]
  },
  {
   "cell_type": "code",
   "execution_count": 48,
   "id": "26f5e496",
   "metadata": {
    "scrolled": false
   },
   "outputs": [
    {
     "name": "stdout",
     "output_type": "stream",
     "text": [
      "All categories:\n",
      " - Top Lists\n",
      " - Hip-Hop\n",
      " - Pop\n",
      " - Country\n",
      " - Rock\n",
      " - Pride\n",
      " - Summer\n",
      " - Workout\n",
      " - Latin\n",
      " - Jazz\n",
      " - Netflix\n",
      " - R&B\n",
      " - Mood\n",
      " - Sleep\n",
      " - Dance/Electronic\n",
      " - Indie\n",
      " - Christian & Gospel\n",
      " - Regional Mexican\n",
      " - Wellness\n",
      " - Chill\n"
     ]
    }
   ],
   "source": [
    "def get_categories():\n",
    "    categories = spotify.categories()['categories']['items']\n",
    "    category_names = [category['name'] for category in categories]\n",
    "    return category_names\n",
    "\n",
    "print('All categories:')\n",
    "category_names = get_categories()\n",
    "for category_name in category_names:\n",
    "    print(f' - {category_name}')"
   ]
  },
  {
   "cell_type": "code",
   "execution_count": 49,
   "id": "1beaf62a",
   "metadata": {
    "scrolled": true
   },
   "outputs": [
    {
     "name": "stdout",
     "output_type": "stream",
     "text": [
      "artists: [{'external_urls': {'spotify': 'https://open.spotify.com/artist/6M2wZ9GZgrQXHCFfjv46we'}, 'href': 'https://api.spotify.com/v1/artists/6M2wZ9GZgrQXHCFfjv46we', 'id': '6M2wZ9GZgrQXHCFfjv46we', 'name': 'Dua Lipa', 'type': 'artist', 'uri': 'spotify:artist:6M2wZ9GZgrQXHCFfjv46we'}]\n",
      "\n",
      "images: [{'height': 640, 'url': 'https://i.scdn.co/image/ab67616d0000b273bd26ede1ae69327010d49946', 'width': 640}, {'height': 300, 'url': 'https://i.scdn.co/image/ab67616d00001e02bd26ede1ae69327010d49946', 'width': 300}, {'height': 64, 'url': 'https://i.scdn.co/image/ab67616d00004851bd26ede1ae69327010d49946', 'width': 64}]\n",
      "\n",
      "name: Future Nostalgia\n",
      "\n",
      "popularity: 77\n",
      "\n",
      "release_date: 2020-03-27\n",
      "\n",
      "tracks: [{'artists': [{'external_urls': {'spotify': 'https://open.spotify.com/artist/6M2wZ9GZgrQXHCFfjv46we'}, 'href': 'https://api.spotify.com/v1/artists/6M2wZ9GZgrQXHCFfjv46we', 'id': '6M2wZ9GZgrQXHCFfjv46we', 'name': 'Dua Lipa', 'type': 'artist', 'uri': 'spotify:artist:6M2wZ9GZgrQXHCFfjv46we'}], 'available_markets': ['AD', 'AE', 'AG', 'AL', 'AM', 'AO', 'AR', 'AU', 'AZ', 'BA', 'BB', 'BD', 'BE', 'BF', 'BG', 'BH', 'BI', 'BJ', 'BN', 'BO', 'BR', 'BS', 'BT', 'BW', 'BY', 'BZ', 'CA', 'CD', 'CG', 'CI', 'CL', 'CM', 'CO', 'CR', 'CV', 'CW', 'CY', 'CZ', 'DJ', 'DK', 'DM', 'DO', 'DZ', 'EC', 'EE', 'EG', 'ES', 'FI', 'FJ', 'FM', 'FR', 'GA', 'GB', 'GD', 'GE', 'GH', 'GM', 'GN', 'GQ', 'GR', 'GT', 'GW', 'GY', 'HK', 'HN', 'HR', 'HT', 'HU', 'ID', 'IE', 'IL', 'IN', 'IQ', 'IS', 'IT', 'JM', 'JO', 'JP', 'KE', 'KG', 'KH', 'KI', 'KM', 'KN', 'KR', 'KW', 'KZ', 'LA', 'LB', 'LC', 'LI', 'LK', 'LR', 'LS', 'LT', 'LU', 'LV', 'LY', 'MA', 'MC', 'MD', 'ME', 'MG', 'MH', 'MK', 'ML', 'MN', 'MO', 'MR', 'MT', 'MU', 'MV', 'MW', 'MX', 'MY', 'MZ', 'NA', 'NE', 'NG', 'NI', 'NL', 'NO', 'NP', 'NR', 'NZ', 'OM', 'PA', 'PE', 'PG', 'PH', 'PK', 'PL', 'PS', 'PT', 'PW', 'PY', 'QA', 'RO', 'RS', 'RW', 'SA', 'SB', 'SC', 'SG', 'SI', 'SK', 'SL', 'SM', 'SN', 'SR', 'ST', 'SV', 'SZ', 'TD', 'TG', 'TH', 'TJ', 'TL', 'TN', 'TO', 'TR', 'TT', 'TV', 'TW', 'TZ', 'UA', 'UG', 'US', 'UY', 'UZ', 'VC', 'VE', 'VN', 'VU', 'WS', 'XK', 'ZA', 'ZM', 'ZW'], 'disc_number': 1, 'duration_ms': 184881, 'explicit': False, 'external_urls': {'spotify': 'https://open.spotify.com/track/6zrJLhslleCHby0wbUnvVy'}, 'href': 'https://api.spotify.com/v1/tracks/6zrJLhslleCHby0wbUnvVy', 'id': '6zrJLhslleCHby0wbUnvVy', 'is_local': False, 'name': 'Future Nostalgia', 'preview_url': 'https://p.scdn.co/mp3-preview/27890db8a1b0de533a6a963e36df3945ef7ebaa7?cid=56c1bdf1a80c42929dc1867b75a4b37a', 'track_number': 1, 'type': 'track', 'uri': 'spotify:track:6zrJLhslleCHby0wbUnvVy'}, {'artists': [{'external_urls': {'spotify': 'https://open.spotify.com/artist/6M2wZ9GZgrQXHCFfjv46we'}, 'href': 'https://api.spotify.com/v1/artists/6M2wZ9GZgrQXHCFfjv46we', 'id': '6M2wZ9GZgrQXHCFfjv46we', 'name': 'Dua Lipa', 'type': 'artist', 'uri': 'spotify:artist:6M2wZ9GZgrQXHCFfjv46we'}], 'available_markets': ['AD', 'AE', 'AG', 'AL', 'AM', 'AO', 'AR', 'AU', 'AZ', 'BA', 'BB', 'BD', 'BE', 'BF', 'BG', 'BH', 'BI', 'BJ', 'BN', 'BO', 'BR', 'BS', 'BT', 'BW', 'BY', 'BZ', 'CA', 'CD', 'CG', 'CI', 'CL', 'CM', 'CO', 'CR', 'CV', 'CW', 'CY', 'CZ', 'DJ', 'DK', 'DM', 'DO', 'DZ', 'EC', 'EE', 'EG', 'ES', 'FI', 'FJ', 'FM', 'FR', 'GA', 'GB', 'GD', 'GE', 'GH', 'GM', 'GN', 'GQ', 'GR', 'GT', 'GW', 'GY', 'HK', 'HN', 'HR', 'HT', 'HU', 'ID', 'IE', 'IL', 'IN', 'IQ', 'IS', 'IT', 'JM', 'JO', 'JP', 'KE', 'KG', 'KH', 'KI', 'KM', 'KN', 'KR', 'KW', 'KZ', 'LA', 'LB', 'LC', 'LI', 'LK', 'LR', 'LS', 'LT', 'LU', 'LV', 'LY', 'MA', 'MC', 'MD', 'ME', 'MG', 'MH', 'MK', 'ML', 'MN', 'MO', 'MR', 'MT', 'MU', 'MV', 'MW', 'MX', 'MY', 'MZ', 'NA', 'NE', 'NG', 'NI', 'NL', 'NO', 'NP', 'NR', 'NZ', 'OM', 'PA', 'PE', 'PG', 'PH', 'PK', 'PL', 'PS', 'PT', 'PW', 'PY', 'QA', 'RO', 'RS', 'RW', 'SA', 'SB', 'SC', 'SG', 'SI', 'SK', 'SL', 'SM', 'SN', 'SR', 'ST', 'SV', 'SZ', 'TD', 'TG', 'TH', 'TJ', 'TL', 'TN', 'TO', 'TR', 'TT', 'TV', 'TW', 'TZ', 'UA', 'UG', 'US', 'UY', 'UZ', 'VC', 'VE', 'VN', 'VU', 'WS', 'XK', 'ZA', 'ZM', 'ZW'], 'disc_number': 1, 'duration_ms': 183290, 'explicit': False, 'external_urls': {'spotify': 'https://open.spotify.com/track/3PfIrDoz19wz7qK7tYeu62'}, 'href': 'https://api.spotify.com/v1/tracks/3PfIrDoz19wz7qK7tYeu62', 'id': '3PfIrDoz19wz7qK7tYeu62', 'is_local': False, 'name': \"Don't Start Now\", 'preview_url': 'https://p.scdn.co/mp3-preview/9c0e91a42d58453a5e53690ea9f33f755339c2a9?cid=56c1bdf1a80c42929dc1867b75a4b37a', 'track_number': 2, 'type': 'track', 'uri': 'spotify:track:3PfIrDoz19wz7qK7tYeu62'}, {'artists': [{'external_urls': {'spotify': 'https://open.spotify.com/artist/6M2wZ9GZgrQXHCFfjv46we'}, 'href': 'https://api.spotify.com/v1/artists/6M2wZ9GZgrQXHCFfjv46we', 'id': '6M2wZ9GZgrQXHCFfjv46we', 'name': 'Dua Lipa', 'type': 'artist', 'uri': 'spotify:artist:6M2wZ9GZgrQXHCFfjv46we'}], 'available_markets': ['AD', 'AE', 'AG', 'AL', 'AM', 'AO', 'AR', 'AU', 'AZ', 'BA', 'BB', 'BD', 'BE', 'BF', 'BG', 'BH', 'BI', 'BJ', 'BN', 'BO', 'BR', 'BS', 'BT', 'BW', 'BY', 'BZ', 'CA', 'CD', 'CG', 'CI', 'CL', 'CM', 'CO', 'CR', 'CV', 'CW', 'CY', 'CZ', 'DJ', 'DK', 'DM', 'DO', 'DZ', 'EC', 'EE', 'EG', 'ES', 'FI', 'FJ', 'FM', 'FR', 'GA', 'GB', 'GD', 'GE', 'GH', 'GM', 'GN', 'GQ', 'GR', 'GT', 'GW', 'GY', 'HK', 'HN', 'HR', 'HT', 'HU', 'ID', 'IE', 'IL', 'IN', 'IQ', 'IS', 'IT', 'JM', 'JO', 'JP', 'KE', 'KG', 'KH', 'KI', 'KM', 'KN', 'KR', 'KW', 'KZ', 'LA', 'LB', 'LC', 'LI', 'LK', 'LR', 'LS', 'LT', 'LU', 'LV', 'LY', 'MA', 'MC', 'MD', 'ME', 'MG', 'MH', 'MK', 'ML', 'MN', 'MO', 'MR', 'MT', 'MU', 'MV', 'MW', 'MX', 'MY', 'MZ', 'NA', 'NE', 'NG', 'NI', 'NL', 'NO', 'NP', 'NR', 'NZ', 'OM', 'PA', 'PE', 'PG', 'PH', 'PK', 'PL', 'PS', 'PT', 'PW', 'PY', 'QA', 'RO', 'RS', 'RW', 'SA', 'SB', 'SC', 'SG', 'SI', 'SK', 'SL', 'SM', 'SN', 'SR', 'ST', 'SV', 'SZ', 'TD', 'TG', 'TH', 'TJ', 'TL', 'TN', 'TO', 'TR', 'TT', 'TV', 'TW', 'TZ', 'UA', 'UG', 'US', 'UY', 'UZ', 'VC', 'VE', 'VN', 'VU', 'WS', 'XK', 'ZA', 'ZM', 'ZW'], 'disc_number': 1, 'duration_ms': 209583, 'explicit': False, 'external_urls': {'spotify': 'https://open.spotify.com/track/2nMOodYNHBAQ3Kc1QNimZU'}, 'href': 'https://api.spotify.com/v1/tracks/2nMOodYNHBAQ3Kc1QNimZU', 'id': '2nMOodYNHBAQ3Kc1QNimZU', 'is_local': False, 'name': 'Cool', 'preview_url': 'https://p.scdn.co/mp3-preview/b2e461a21f5669f41ea59b99844ba5fe06bad7a3?cid=56c1bdf1a80c42929dc1867b75a4b37a', 'track_number': 3, 'type': 'track', 'uri': 'spotify:track:2nMOodYNHBAQ3Kc1QNimZU'}, {'artists': [{'external_urls': {'spotify': 'https://open.spotify.com/artist/6M2wZ9GZgrQXHCFfjv46we'}, 'href': 'https://api.spotify.com/v1/artists/6M2wZ9GZgrQXHCFfjv46we', 'id': '6M2wZ9GZgrQXHCFfjv46we', 'name': 'Dua Lipa', 'type': 'artist', 'uri': 'spotify:artist:6M2wZ9GZgrQXHCFfjv46we'}], 'available_markets': ['AD', 'AE', 'AG', 'AL', 'AM', 'AO', 'AR', 'AU', 'AZ', 'BA', 'BB', 'BD', 'BE', 'BF', 'BG', 'BH', 'BI', 'BJ', 'BN', 'BO', 'BR', 'BS', 'BT', 'BW', 'BY', 'BZ', 'CA', 'CD', 'CG', 'CI', 'CL', 'CM', 'CO', 'CR', 'CV', 'CW', 'CY', 'CZ', 'DJ', 'DK', 'DM', 'DO', 'DZ', 'EC', 'EE', 'EG', 'ES', 'FI', 'FJ', 'FM', 'FR', 'GA', 'GB', 'GD', 'GE', 'GH', 'GM', 'GN', 'GQ', 'GR', 'GT', 'GW', 'GY', 'HK', 'HN', 'HR', 'HT', 'HU', 'ID', 'IE', 'IL', 'IN', 'IQ', 'IS', 'IT', 'JM', 'JO', 'JP', 'KE', 'KG', 'KH', 'KI', 'KM', 'KN', 'KR', 'KW', 'KZ', 'LA', 'LB', 'LC', 'LI', 'LK', 'LR', 'LS', 'LT', 'LU', 'LV', 'LY', 'MA', 'MC', 'MD', 'ME', 'MG', 'MH', 'MK', 'ML', 'MN', 'MO', 'MR', 'MT', 'MU', 'MV', 'MW', 'MX', 'MY', 'MZ', 'NA', 'NE', 'NG', 'NI', 'NL', 'NO', 'NP', 'NR', 'NZ', 'OM', 'PA', 'PE', 'PG', 'PH', 'PK', 'PL', 'PS', 'PT', 'PW', 'PY', 'QA', 'RO', 'RS', 'RW', 'SA', 'SB', 'SC', 'SG', 'SI', 'SK', 'SL', 'SM', 'SN', 'SR', 'ST', 'SV', 'SZ', 'TD', 'TG', 'TH', 'TJ', 'TL', 'TN', 'TO', 'TR', 'TT', 'TV', 'TW', 'TZ', 'UA', 'UG', 'US', 'UY', 'UZ', 'VC', 'VE', 'VN', 'VU', 'WS', 'XK', 'ZA', 'ZM', 'ZW'], 'disc_number': 1, 'duration_ms': 193829, 'explicit': False, 'external_urls': {'spotify': 'https://open.spotify.com/track/3AzjcOeAmA57TIOr9zF1ZW'}, 'href': 'https://api.spotify.com/v1/tracks/3AzjcOeAmA57TIOr9zF1ZW', 'id': '3AzjcOeAmA57TIOr9zF1ZW', 'is_local': False, 'name': 'Physical', 'preview_url': 'https://p.scdn.co/mp3-preview/ccca0f028caf8410a9a5627324bfc980b86a8009?cid=56c1bdf1a80c42929dc1867b75a4b37a', 'track_number': 4, 'type': 'track', 'uri': 'spotify:track:3AzjcOeAmA57TIOr9zF1ZW'}, {'artists': [{'external_urls': {'spotify': 'https://open.spotify.com/artist/6M2wZ9GZgrQXHCFfjv46we'}, 'href': 'https://api.spotify.com/v1/artists/6M2wZ9GZgrQXHCFfjv46we', 'id': '6M2wZ9GZgrQXHCFfjv46we', 'name': 'Dua Lipa', 'type': 'artist', 'uri': 'spotify:artist:6M2wZ9GZgrQXHCFfjv46we'}], 'available_markets': ['AD', 'AE', 'AG', 'AL', 'AM', 'AO', 'AR', 'AU', 'AZ', 'BA', 'BB', 'BD', 'BE', 'BF', 'BG', 'BH', 'BI', 'BJ', 'BN', 'BO', 'BR', 'BS', 'BT', 'BW', 'BY', 'BZ', 'CA', 'CD', 'CG', 'CI', 'CL', 'CM', 'CO', 'CR', 'CV', 'CW', 'CY', 'CZ', 'DJ', 'DK', 'DM', 'DO', 'DZ', 'EC', 'EE', 'EG', 'ES', 'FI', 'FJ', 'FM', 'FR', 'GA', 'GB', 'GD', 'GE', 'GH', 'GM', 'GN', 'GQ', 'GR', 'GT', 'GW', 'GY', 'HK', 'HN', 'HR', 'HT', 'HU', 'ID', 'IE', 'IL', 'IN', 'IQ', 'IS', 'IT', 'JM', 'JO', 'JP', 'KE', 'KG', 'KH', 'KI', 'KM', 'KN', 'KR', 'KW', 'KZ', 'LA', 'LB', 'LC', 'LI', 'LK', 'LR', 'LS', 'LT', 'LU', 'LV', 'LY', 'MA', 'MC', 'MD', 'ME', 'MG', 'MH', 'MK', 'ML', 'MN', 'MO', 'MR', 'MT', 'MU', 'MV', 'MW', 'MX', 'MY', 'MZ', 'NA', 'NE', 'NG', 'NI', 'NL', 'NO', 'NP', 'NR', 'NZ', 'OM', 'PA', 'PE', 'PG', 'PH', 'PK', 'PL', 'PS', 'PT', 'PW', 'PY', 'QA', 'RO', 'RS', 'RW', 'SA', 'SB', 'SC', 'SG', 'SI', 'SK', 'SL', 'SM', 'SN', 'SR', 'ST', 'SV', 'SZ', 'TD', 'TG', 'TH', 'TJ', 'TL', 'TN', 'TO', 'TR', 'TT', 'TV', 'TW', 'TZ', 'UA', 'UG', 'US', 'UY', 'UZ', 'VC', 'VE', 'VN', 'VU', 'WS', 'XK', 'ZA', 'ZM', 'ZW'], 'disc_number': 1, 'duration_ms': 203807, 'explicit': False, 'external_urls': {'spotify': 'https://open.spotify.com/track/39LLxExYz6ewLAcYrzQQyP'}, 'href': 'https://api.spotify.com/v1/tracks/39LLxExYz6ewLAcYrzQQyP', 'id': '39LLxExYz6ewLAcYrzQQyP', 'is_local': False, 'name': 'Levitating', 'preview_url': 'https://p.scdn.co/mp3-preview/130e18a8f12e319b06032640c6b75e3881719684?cid=56c1bdf1a80c42929dc1867b75a4b37a', 'track_number': 5, 'type': 'track', 'uri': 'spotify:track:39LLxExYz6ewLAcYrzQQyP'}, {'artists': [{'external_urls': {'spotify': 'https://open.spotify.com/artist/6M2wZ9GZgrQXHCFfjv46we'}, 'href': 'https://api.spotify.com/v1/artists/6M2wZ9GZgrQXHCFfjv46we', 'id': '6M2wZ9GZgrQXHCFfjv46we', 'name': 'Dua Lipa', 'type': 'artist', 'uri': 'spotify:artist:6M2wZ9GZgrQXHCFfjv46we'}], 'available_markets': ['AD', 'AE', 'AG', 'AL', 'AM', 'AO', 'AR', 'AU', 'AZ', 'BA', 'BB', 'BD', 'BE', 'BF', 'BG', 'BH', 'BI', 'BJ', 'BN', 'BO', 'BR', 'BS', 'BT', 'BW', 'BY', 'BZ', 'CA', 'CD', 'CG', 'CI', 'CL', 'CM', 'CO', 'CR', 'CV', 'CW', 'CY', 'CZ', 'DJ', 'DK', 'DM', 'DO', 'DZ', 'EC', 'EE', 'EG', 'ES', 'FI', 'FJ', 'FM', 'FR', 'GA', 'GB', 'GD', 'GE', 'GH', 'GM', 'GN', 'GQ', 'GR', 'GT', 'GW', 'GY', 'HK', 'HN', 'HR', 'HT', 'HU', 'ID', 'IE', 'IL', 'IN', 'IQ', 'IS', 'IT', 'JM', 'JO', 'JP', 'KE', 'KG', 'KH', 'KI', 'KM', 'KN', 'KR', 'KW', 'KZ', 'LA', 'LB', 'LC', 'LI', 'LK', 'LR', 'LS', 'LT', 'LU', 'LV', 'LY', 'MA', 'MC', 'MD', 'ME', 'MG', 'MH', 'MK', 'ML', 'MN', 'MO', 'MR', 'MT', 'MU', 'MV', 'MW', 'MX', 'MY', 'MZ', 'NA', 'NE', 'NG', 'NI', 'NL', 'NO', 'NP', 'NR', 'NZ', 'OM', 'PA', 'PE', 'PG', 'PH', 'PK', 'PL', 'PS', 'PT', 'PW', 'PY', 'QA', 'RO', 'RS', 'RW', 'SA', 'SB', 'SC', 'SG', 'SI', 'SK', 'SL', 'SM', 'SN', 'SR', 'ST', 'SV', 'SZ', 'TD', 'TG', 'TH', 'TJ', 'TL', 'TN', 'TO', 'TR', 'TT', 'TV', 'TW', 'TZ', 'UA', 'UG', 'US', 'UY', 'UZ', 'VC', 'VE', 'VN', 'VU', 'WS', 'XK', 'ZA', 'ZM', 'ZW'], 'disc_number': 1, 'duration_ms': 194607, 'explicit': False, 'external_urls': {'spotify': 'https://open.spotify.com/track/6DXZiYUbrYgrVIhfX3U9Z2'}, 'href': 'https://api.spotify.com/v1/tracks/6DXZiYUbrYgrVIhfX3U9Z2', 'id': '6DXZiYUbrYgrVIhfX3U9Z2', 'is_local': False, 'name': 'Pretty Please', 'preview_url': 'https://p.scdn.co/mp3-preview/6ba14bffe609e3bb61f99846f90caad053ecd5f3?cid=56c1bdf1a80c42929dc1867b75a4b37a', 'track_number': 6, 'type': 'track', 'uri': 'spotify:track:6DXZiYUbrYgrVIhfX3U9Z2'}, {'artists': [{'external_urls': {'spotify': 'https://open.spotify.com/artist/6M2wZ9GZgrQXHCFfjv46we'}, 'href': 'https://api.spotify.com/v1/artists/6M2wZ9GZgrQXHCFfjv46we', 'id': '6M2wZ9GZgrQXHCFfjv46we', 'name': 'Dua Lipa', 'type': 'artist', 'uri': 'spotify:artist:6M2wZ9GZgrQXHCFfjv46we'}], 'available_markets': ['AD', 'AE', 'AG', 'AL', 'AM', 'AO', 'AR', 'AU', 'AZ', 'BA', 'BB', 'BD', 'BE', 'BF', 'BG', 'BH', 'BI', 'BJ', 'BN', 'BO', 'BR', 'BS', 'BT', 'BW', 'BY', 'BZ', 'CA', 'CD', 'CG', 'CI', 'CL', 'CM', 'CO', 'CR', 'CV', 'CW', 'CY', 'CZ', 'DJ', 'DK', 'DM', 'DO', 'DZ', 'EC', 'EE', 'EG', 'ES', 'FI', 'FJ', 'FM', 'FR', 'GA', 'GB', 'GD', 'GE', 'GH', 'GM', 'GN', 'GQ', 'GR', 'GT', 'GW', 'GY', 'HK', 'HN', 'HR', 'HT', 'HU', 'ID', 'IE', 'IL', 'IN', 'IQ', 'IS', 'IT', 'JM', 'JO', 'JP', 'KE', 'KG', 'KH', 'KI', 'KM', 'KN', 'KR', 'KW', 'KZ', 'LA', 'LB', 'LC', 'LI', 'LK', 'LR', 'LS', 'LT', 'LU', 'LV', 'LY', 'MA', 'MC', 'MD', 'ME', 'MG', 'MH', 'MK', 'ML', 'MN', 'MO', 'MR', 'MT', 'MU', 'MV', 'MW', 'MX', 'MY', 'MZ', 'NA', 'NE', 'NG', 'NI', 'NL', 'NO', 'NP', 'NR', 'NZ', 'OM', 'PA', 'PE', 'PG', 'PH', 'PK', 'PL', 'PS', 'PT', 'PW', 'PY', 'QA', 'RO', 'RS', 'RW', 'SA', 'SB', 'SC', 'SG', 'SI', 'SK', 'SL', 'SM', 'SN', 'SR', 'ST', 'SV', 'SZ', 'TD', 'TG', 'TH', 'TJ', 'TL', 'TN', 'TO', 'TR', 'TT', 'TV', 'TW', 'TZ', 'UA', 'UG', 'US', 'UY', 'UZ', 'VC', 'VE', 'VN', 'VU', 'WS', 'XK', 'ZA', 'ZM', 'ZW'], 'disc_number': 1, 'duration_ms': 208505, 'explicit': False, 'external_urls': {'spotify': 'https://open.spotify.com/track/1nYeVF5vIBxMxfPoL0SIWg'}, 'href': 'https://api.spotify.com/v1/tracks/1nYeVF5vIBxMxfPoL0SIWg', 'id': '1nYeVF5vIBxMxfPoL0SIWg', 'is_local': False, 'name': 'Hallucinate', 'preview_url': 'https://p.scdn.co/mp3-preview/d1b8c85be1a53f78007d9bb7d9dace199ce36de8?cid=56c1bdf1a80c42929dc1867b75a4b37a', 'track_number': 7, 'type': 'track', 'uri': 'spotify:track:1nYeVF5vIBxMxfPoL0SIWg'}, {'artists': [{'external_urls': {'spotify': 'https://open.spotify.com/artist/6M2wZ9GZgrQXHCFfjv46we'}, 'href': 'https://api.spotify.com/v1/artists/6M2wZ9GZgrQXHCFfjv46we', 'id': '6M2wZ9GZgrQXHCFfjv46we', 'name': 'Dua Lipa', 'type': 'artist', 'uri': 'spotify:artist:6M2wZ9GZgrQXHCFfjv46we'}], 'available_markets': ['AD', 'AE', 'AG', 'AL', 'AM', 'AO', 'AR', 'AU', 'AZ', 'BA', 'BB', 'BD', 'BE', 'BF', 'BG', 'BH', 'BI', 'BJ', 'BN', 'BO', 'BR', 'BS', 'BT', 'BW', 'BY', 'BZ', 'CA', 'CD', 'CG', 'CI', 'CL', 'CM', 'CO', 'CR', 'CV', 'CW', 'CY', 'CZ', 'DJ', 'DK', 'DM', 'DO', 'DZ', 'EC', 'EE', 'EG', 'ES', 'FI', 'FJ', 'FM', 'FR', 'GA', 'GB', 'GD', 'GE', 'GH', 'GM', 'GN', 'GQ', 'GR', 'GT', 'GW', 'GY', 'HK', 'HN', 'HR', 'HT', 'HU', 'ID', 'IE', 'IL', 'IN', 'IQ', 'IS', 'IT', 'JM', 'JO', 'JP', 'KE', 'KG', 'KH', 'KI', 'KM', 'KN', 'KR', 'KW', 'KZ', 'LA', 'LB', 'LC', 'LI', 'LK', 'LR', 'LS', 'LT', 'LU', 'LV', 'LY', 'MA', 'MC', 'MD', 'ME', 'MG', 'MH', 'MK', 'ML', 'MN', 'MO', 'MR', 'MT', 'MU', 'MV', 'MW', 'MX', 'MY', 'MZ', 'NA', 'NE', 'NG', 'NI', 'NL', 'NO', 'NP', 'NR', 'NZ', 'OM', 'PA', 'PE', 'PG', 'PH', 'PK', 'PL', 'PS', 'PT', 'PW', 'PY', 'QA', 'RO', 'RS', 'RW', 'SA', 'SB', 'SC', 'SG', 'SI', 'SK', 'SL', 'SM', 'SN', 'SR', 'ST', 'SV', 'SZ', 'TD', 'TG', 'TH', 'TJ', 'TL', 'TN', 'TO', 'TR', 'TT', 'TV', 'TW', 'TZ', 'UA', 'UG', 'US', 'UY', 'UZ', 'VC', 'VE', 'VN', 'VU', 'WS', 'XK', 'ZA', 'ZM', 'ZW'], 'disc_number': 1, 'duration_ms': 258004, 'explicit': False, 'external_urls': {'spotify': 'https://open.spotify.com/track/4rPkN1FMzQyFNP9cLUGIIB'}, 'href': 'https://api.spotify.com/v1/tracks/4rPkN1FMzQyFNP9cLUGIIB', 'id': '4rPkN1FMzQyFNP9cLUGIIB', 'is_local': False, 'name': 'Love Again', 'preview_url': 'https://p.scdn.co/mp3-preview/308115a2069e838abf0de4c021f4ee024f0dda13?cid=56c1bdf1a80c42929dc1867b75a4b37a', 'track_number': 8, 'type': 'track', 'uri': 'spotify:track:4rPkN1FMzQyFNP9cLUGIIB'}, {'artists': [{'external_urls': {'spotify': 'https://open.spotify.com/artist/6M2wZ9GZgrQXHCFfjv46we'}, 'href': 'https://api.spotify.com/v1/artists/6M2wZ9GZgrQXHCFfjv46we', 'id': '6M2wZ9GZgrQXHCFfjv46we', 'name': 'Dua Lipa', 'type': 'artist', 'uri': 'spotify:artist:6M2wZ9GZgrQXHCFfjv46we'}], 'available_markets': ['AD', 'AE', 'AG', 'AL', 'AM', 'AO', 'AR', 'AU', 'AZ', 'BA', 'BB', 'BD', 'BE', 'BF', 'BG', 'BH', 'BI', 'BJ', 'BN', 'BO', 'BR', 'BS', 'BT', 'BW', 'BY', 'BZ', 'CA', 'CD', 'CG', 'CI', 'CL', 'CM', 'CO', 'CR', 'CV', 'CW', 'CY', 'CZ', 'DJ', 'DK', 'DM', 'DO', 'DZ', 'EC', 'EE', 'EG', 'ES', 'FI', 'FJ', 'FM', 'FR', 'GA', 'GB', 'GD', 'GE', 'GH', 'GM', 'GN', 'GQ', 'GR', 'GT', 'GW', 'GY', 'HK', 'HN', 'HR', 'HT', 'HU', 'ID', 'IE', 'IL', 'IN', 'IQ', 'IS', 'IT', 'JM', 'JO', 'JP', 'KE', 'KG', 'KH', 'KI', 'KM', 'KN', 'KR', 'KW', 'KZ', 'LA', 'LB', 'LC', 'LI', 'LK', 'LR', 'LS', 'LT', 'LU', 'LV', 'LY', 'MA', 'MC', 'MD', 'ME', 'MG', 'MH', 'MK', 'ML', 'MN', 'MO', 'MR', 'MT', 'MU', 'MV', 'MW', 'MX', 'MY', 'MZ', 'NA', 'NE', 'NG', 'NI', 'NL', 'NO', 'NP', 'NR', 'NZ', 'OM', 'PA', 'PE', 'PG', 'PH', 'PK', 'PL', 'PS', 'PT', 'PW', 'PY', 'QA', 'RO', 'RS', 'RW', 'SA', 'SB', 'SC', 'SG', 'SI', 'SK', 'SL', 'SM', 'SN', 'SR', 'ST', 'SV', 'SZ', 'TD', 'TG', 'TH', 'TJ', 'TL', 'TN', 'TO', 'TR', 'TT', 'TV', 'TW', 'TZ', 'UA', 'UG', 'US', 'UY', 'UZ', 'VC', 'VE', 'VN', 'VU', 'WS', 'XK', 'ZA', 'ZM', 'ZW'], 'disc_number': 1, 'duration_ms': 221820, 'explicit': False, 'external_urls': {'spotify': 'https://open.spotify.com/track/017PF4Q3l4DBUiWoXk4OWT'}, 'href': 'https://api.spotify.com/v1/tracks/017PF4Q3l4DBUiWoXk4OWT', 'id': '017PF4Q3l4DBUiWoXk4OWT', 'is_local': False, 'name': 'Break My Heart', 'preview_url': 'https://p.scdn.co/mp3-preview/e1e63b8e31c4ab2d28dc988c5ec40d4084206b64?cid=56c1bdf1a80c42929dc1867b75a4b37a', 'track_number': 9, 'type': 'track', 'uri': 'spotify:track:017PF4Q3l4DBUiWoXk4OWT'}, {'artists': [{'external_urls': {'spotify': 'https://open.spotify.com/artist/6M2wZ9GZgrQXHCFfjv46we'}, 'href': 'https://api.spotify.com/v1/artists/6M2wZ9GZgrQXHCFfjv46we', 'id': '6M2wZ9GZgrQXHCFfjv46we', 'name': 'Dua Lipa', 'type': 'artist', 'uri': 'spotify:artist:6M2wZ9GZgrQXHCFfjv46we'}], 'available_markets': ['AD', 'AE', 'AG', 'AL', 'AM', 'AO', 'AR', 'AU', 'AZ', 'BA', 'BB', 'BD', 'BE', 'BF', 'BG', 'BH', 'BI', 'BJ', 'BN', 'BO', 'BR', 'BS', 'BT', 'BW', 'BY', 'BZ', 'CA', 'CD', 'CG', 'CI', 'CL', 'CM', 'CO', 'CR', 'CV', 'CW', 'CY', 'CZ', 'DJ', 'DK', 'DM', 'DO', 'DZ', 'EC', 'EE', 'EG', 'ES', 'FI', 'FJ', 'FM', 'FR', 'GA', 'GB', 'GD', 'GE', 'GH', 'GM', 'GN', 'GQ', 'GR', 'GT', 'GW', 'GY', 'HK', 'HN', 'HR', 'HT', 'HU', 'ID', 'IE', 'IL', 'IN', 'IQ', 'IS', 'IT', 'JM', 'JO', 'JP', 'KE', 'KG', 'KH', 'KI', 'KM', 'KN', 'KR', 'KW', 'KZ', 'LA', 'LB', 'LC', 'LI', 'LK', 'LR', 'LS', 'LT', 'LU', 'LV', 'LY', 'MA', 'MC', 'MD', 'ME', 'MG', 'MH', 'MK', 'ML', 'MN', 'MO', 'MR', 'MT', 'MU', 'MV', 'MW', 'MX', 'MY', 'MZ', 'NA', 'NE', 'NG', 'NI', 'NL', 'NO', 'NP', 'NR', 'NZ', 'OM', 'PA', 'PE', 'PG', 'PH', 'PK', 'PL', 'PS', 'PT', 'PW', 'PY', 'QA', 'RO', 'RS', 'RW', 'SA', 'SB', 'SC', 'SG', 'SI', 'SK', 'SL', 'SM', 'SN', 'SR', 'ST', 'SV', 'SZ', 'TD', 'TG', 'TH', 'TJ', 'TL', 'TN', 'TO', 'TR', 'TT', 'TV', 'TW', 'TZ', 'UA', 'UG', 'US', 'UY', 'UZ', 'VC', 'VE', 'VN', 'VU', 'WS', 'XK', 'ZA', 'ZM', 'ZW'], 'disc_number': 1, 'duration_ms': 218754, 'explicit': True, 'external_urls': {'spotify': 'https://open.spotify.com/track/6uAFJ75WDAoAPyCWJAtvks'}, 'href': 'https://api.spotify.com/v1/tracks/6uAFJ75WDAoAPyCWJAtvks', 'id': '6uAFJ75WDAoAPyCWJAtvks', 'is_local': False, 'name': 'Good In Bed', 'preview_url': 'https://p.scdn.co/mp3-preview/d6e1b0bc09a07d3c36a4cefa24af8ccac2bce620?cid=56c1bdf1a80c42929dc1867b75a4b37a', 'track_number': 10, 'type': 'track', 'uri': 'spotify:track:6uAFJ75WDAoAPyCWJAtvks'}, {'artists': [{'external_urls': {'spotify': 'https://open.spotify.com/artist/6M2wZ9GZgrQXHCFfjv46we'}, 'href': 'https://api.spotify.com/v1/artists/6M2wZ9GZgrQXHCFfjv46we', 'id': '6M2wZ9GZgrQXHCFfjv46we', 'name': 'Dua Lipa', 'type': 'artist', 'uri': 'spotify:artist:6M2wZ9GZgrQXHCFfjv46we'}], 'available_markets': ['AD', 'AE', 'AG', 'AL', 'AM', 'AO', 'AR', 'AU', 'AZ', 'BA', 'BB', 'BD', 'BE', 'BF', 'BG', 'BH', 'BI', 'BJ', 'BN', 'BO', 'BR', 'BS', 'BT', 'BW', 'BY', 'BZ', 'CA', 'CD', 'CG', 'CI', 'CL', 'CM', 'CO', 'CR', 'CV', 'CW', 'CY', 'CZ', 'DJ', 'DK', 'DM', 'DO', 'DZ', 'EC', 'EE', 'EG', 'ES', 'FI', 'FJ', 'FM', 'FR', 'GA', 'GB', 'GD', 'GE', 'GH', 'GM', 'GN', 'GQ', 'GR', 'GT', 'GW', 'GY', 'HK', 'HN', 'HR', 'HT', 'HU', 'ID', 'IE', 'IL', 'IN', 'IQ', 'IS', 'IT', 'JM', 'JO', 'JP', 'KE', 'KG', 'KH', 'KI', 'KM', 'KN', 'KR', 'KW', 'KZ', 'LA', 'LB', 'LC', 'LI', 'LK', 'LR', 'LS', 'LT', 'LU', 'LV', 'LY', 'MA', 'MC', 'MD', 'ME', 'MG', 'MH', 'MK', 'ML', 'MN', 'MO', 'MR', 'MT', 'MU', 'MV', 'MW', 'MX', 'MY', 'MZ', 'NA', 'NE', 'NG', 'NI', 'NL', 'NO', 'NP', 'NR', 'NZ', 'OM', 'PA', 'PE', 'PG', 'PH', 'PK', 'PL', 'PS', 'PT', 'PW', 'PY', 'QA', 'RO', 'RS', 'RW', 'SA', 'SB', 'SC', 'SG', 'SI', 'SK', 'SL', 'SM', 'SN', 'SR', 'ST', 'SV', 'SZ', 'TD', 'TG', 'TH', 'TJ', 'TL', 'TN', 'TO', 'TR', 'TT', 'TV', 'TW', 'TZ', 'UA', 'UG', 'US', 'UY', 'UZ', 'VC', 'VE', 'VN', 'VU', 'WS', 'XK', 'ZA', 'ZM', 'ZW'], 'disc_number': 1, 'duration_ms': 166266, 'explicit': False, 'external_urls': {'spotify': 'https://open.spotify.com/track/0vQcyuMEfRBd21ojZ62N2L'}, 'href': 'https://api.spotify.com/v1/tracks/0vQcyuMEfRBd21ojZ62N2L', 'id': '0vQcyuMEfRBd21ojZ62N2L', 'is_local': False, 'name': 'Boys Will Be Boys', 'preview_url': 'https://p.scdn.co/mp3-preview/5c2b697e34f139bb56d1020e75868ae7c2a5d741?cid=56c1bdf1a80c42929dc1867b75a4b37a', 'track_number': 11, 'type': 'track', 'uri': 'spotify:track:0vQcyuMEfRBd21ojZ62N2L'}]\n",
      "\n"
     ]
    }
   ],
   "source": [
    "def get_album(album_id):\n",
    "    '''\n",
    "    Get information on an album.\n",
    "    \n",
    "    param album_id: string\n",
    "    \n",
    "    return: dict\n",
    "     - artists: list of dict (artist object)\n",
    "     - images: list of dict (image object)\n",
    "     - name: string\n",
    "     - popularity: int\n",
    "     - release_date: string\n",
    "     - tracks: list of dict (track object)\n",
    "    \n",
    "    '''\n",
    "    \n",
    "    all_album_info = spotify.album(album_id)\n",
    "    \n",
    "    selected_album_info = dict()\n",
    "    selected_album_info['artists'] = all_album_info['artists']\n",
    "    selected_album_info['images'] = all_album_info['images']\n",
    "    selected_album_info['name'] = all_album_info['name']\n",
    "    selected_album_info['popularity'] = all_album_info['popularity']\n",
    "    selected_album_info['release_date'] = all_album_info['release_date']\n",
    "    selected_album_info['tracks'] = all_album_info['tracks']['items']\n",
    "        \n",
    "    return selected_album_info\n",
    "\n",
    "future_nostalgia = get_album('7fJJK56U9fHixgO0HQkhtI')\n",
    "for key in future_nostalgia.keys():\n",
    "    print(f'{key}: {future_nostalgia[key]}\\n')"
   ]
  },
  {
   "cell_type": "code",
   "execution_count": 50,
   "id": "cc38e846",
   "metadata": {},
   "outputs": [
    {
     "name": "stdout",
     "output_type": "stream",
     "text": [
      "num_followers: 34822802\n",
      "\n",
      "genres: ['dance pop', 'pop', 'uk pop']\n",
      "\n",
      "images: [{'height': 640, 'url': 'https://i.scdn.co/image/ab6761610000e5ebd42a27db3286b58553da8858', 'width': 640}, {'height': 320, 'url': 'https://i.scdn.co/image/ab67616100005174d42a27db3286b58553da8858', 'width': 320}, {'height': 160, 'url': 'https://i.scdn.co/image/ab6761610000f178d42a27db3286b58553da8858', 'width': 160}]\n",
      "\n",
      "name: Dua Lipa\n",
      "\n",
      "popularity: 89\n",
      "\n"
     ]
    }
   ],
   "source": [
    "def get_artist(artist_id):\n",
    "    '''\n",
    "    Get information on an artist.\n",
    "    \n",
    "    param artist_id: string\n",
    "    \n",
    "    return: dict\n",
    "     - num_followers: int\n",
    "     - genres: list of string\n",
    "     - images: list of dict (image object)\n",
    "     - name: string\n",
    "     - popularity: int\n",
    "     \n",
    "    '''\n",
    "    \n",
    "    all_artist_info = spotify.artist(artist_id)\n",
    "    \n",
    "    selected_artist_info = dict()\n",
    "    selected_artist_info['num_followers'] = all_artist_info['followers']['total']\n",
    "    selected_artist_info['genres'] = all_artist_info['genres']\n",
    "    selected_artist_info['images'] = all_artist_info['images']\n",
    "    selected_artist_info['name'] = all_artist_info['name']\n",
    "    selected_artist_info['popularity'] = all_artist_info['popularity']\n",
    "    \n",
    "    return selected_artist_info\n",
    "\n",
    "dua_lipa = get_artist('6M2wZ9GZgrQXHCFfjv46we')\n",
    "for key in dua_lipa.keys():\n",
    "    print(f'{key}: {dua_lipa[key]}\\n')"
   ]
  },
  {
   "cell_type": "code",
   "execution_count": 51,
   "id": "f35a1c65",
   "metadata": {},
   "outputs": [
    {
     "data": {
      "text/plain": [
       "{'Future Nostalgia': '6zrJLhslleCHby0wbUnvVy',\n",
       " \"Don't Start Now\": '3PfIrDoz19wz7qK7tYeu62',\n",
       " 'Cool': '2nMOodYNHBAQ3Kc1QNimZU',\n",
       " 'Physical': '3AzjcOeAmA57TIOr9zF1ZW',\n",
       " 'Levitating': '39LLxExYz6ewLAcYrzQQyP',\n",
       " 'Pretty Please': '6DXZiYUbrYgrVIhfX3U9Z2',\n",
       " 'Hallucinate': '1nYeVF5vIBxMxfPoL0SIWg',\n",
       " 'Love Again': '4rPkN1FMzQyFNP9cLUGIIB',\n",
       " 'Break My Heart': '017PF4Q3l4DBUiWoXk4OWT',\n",
       " 'Good In Bed': '6uAFJ75WDAoAPyCWJAtvks',\n",
       " 'Boys Will Be Boys': '0vQcyuMEfRBd21ojZ62N2L'}"
      ]
     },
     "execution_count": 51,
     "metadata": {},
     "output_type": "execute_result"
    }
   ],
   "source": [
    "future_nostalgia_tracks = {track['name']: track['id'] for track in future_nostalgia['tracks']}\n",
    "future_nostalgia_tracks"
   ]
  },
  {
   "cell_type": "code",
   "execution_count": 52,
   "id": "d2632c5b",
   "metadata": {},
   "outputs": [
    {
     "data": {
      "text/plain": [
       "{'artists': [{'external_urls': {'spotify': 'https://open.spotify.com/artist/6M2wZ9GZgrQXHCFfjv46we'},\n",
       "   'href': 'https://api.spotify.com/v1/artists/6M2wZ9GZgrQXHCFfjv46we',\n",
       "   'id': '6M2wZ9GZgrQXHCFfjv46we',\n",
       "   'name': 'Dua Lipa',\n",
       "   'type': 'artist',\n",
       "   'uri': 'spotify:artist:6M2wZ9GZgrQXHCFfjv46we'}],\n",
       " 'explicit': False,\n",
       " 'name': 'Love Again',\n",
       " 'popularity': 78}"
      ]
     },
     "execution_count": 52,
     "metadata": {},
     "output_type": "execute_result"
    }
   ],
   "source": [
    "def get_track(track_id):\n",
    "    '''\n",
    "    Get information on a track.\n",
    "    \n",
    "    param track_id: string\n",
    "    \n",
    "    return: dict\n",
    "     - artists: list of dict (artist object)\n",
    "     - explicit: boolean\n",
    "     - name: string\n",
    "     - popularity: int\n",
    "     \n",
    "    '''\n",
    "    \n",
    "    all_track_info = spotify.track(track_id)\n",
    "    \n",
    "    selected_track_info = dict()\n",
    "    selected_track_info['artists'] = all_track_info['artists']\n",
    "    selected_track_info['explicit'] = all_track_info['explicit']\n",
    "    selected_track_info['name'] = all_track_info['name']\n",
    "    selected_track_info['popularity'] = all_track_info['popularity']\n",
    "    \n",
    "    return selected_track_info\n",
    "    \n",
    "\n",
    "love_again = get_track('4rPkN1FMzQyFNP9cLUGIIB')\n",
    "love_again"
   ]
  },
  {
   "cell_type": "code",
   "execution_count": 53,
   "id": "47d5c253",
   "metadata": {},
   "outputs": [
    {
     "data": {
      "text/plain": [
       "[{'acousticness': 0.00173,\n",
       "  'danceability': 0.659,\n",
       "  'duration_ms': 258004,\n",
       "  'energy': 0.667,\n",
       "  'instrumentalness': 2.85e-05,\n",
       "  'key': 11,\n",
       "  'loudness': -4.668,\n",
       "  'mode': 0,\n",
       "  'speechiness': 0.0339,\n",
       "  'tempo': 115.982,\n",
       "  'valence': 0.468}]"
      ]
     },
     "execution_count": 53,
     "metadata": {},
     "output_type": "execute_result"
    }
   ],
   "source": [
    "def get_audio_features(tracks_ids):\n",
    "    '''\n",
    "    Get the audio features of tracks.\n",
    "    \n",
    "    param tracks_ids: list of string (track_id)\n",
    "    \n",
    "    return: list of dict\n",
    "     - acousticness: float\n",
    "     - danceability: float\n",
    "     - duration_ms: int\n",
    "     - energy: float\n",
    "     - instrumentalness: float\n",
    "     - key: int\n",
    "     - loudness: float\n",
    "     - mode: int\n",
    "     - speechiness: float\n",
    "     - tempo: float\n",
    "     - valence: float\n",
    "     \n",
    "    '''\n",
    "    \n",
    "    arr = spotify.audio_features(tracks_ids)\n",
    "    \n",
    "    ret = []\n",
    "    for all_audio_features in arr:\n",
    "        selected_audio_features = dict()\n",
    "        selected_audio_features['acousticness'] = all_audio_features['acousticness']\n",
    "        selected_audio_features['danceability'] = all_audio_features['danceability']\n",
    "        selected_audio_features['duration_ms'] = all_audio_features['duration_ms']\n",
    "        selected_audio_features['energy'] = all_audio_features['energy']\n",
    "        selected_audio_features['instrumentalness'] = all_audio_features['instrumentalness']\n",
    "        selected_audio_features['key'] = all_audio_features['key']\n",
    "        selected_audio_features['loudness'] = all_audio_features['loudness']\n",
    "        selected_audio_features['mode'] = all_audio_features['mode']\n",
    "        selected_audio_features['speechiness'] = all_audio_features['speechiness']\n",
    "        selected_audio_features['tempo'] = all_audio_features['tempo']\n",
    "        selected_audio_features['valence'] = all_audio_features['valence']\n",
    "        \n",
    "        ret.append(selected_audio_features)\n",
    "\n",
    "    return ret\n",
    "\n",
    "love_again_audio_features = get_audio_features([future_nostalgia_tracks['Love Again']])\n",
    "love_again_audio_features"
   ]
  },
  {
   "cell_type": "markdown",
   "id": "f40cc233",
   "metadata": {},
   "source": [
    "## Fetching user data"
   ]
  },
  {
   "cell_type": "code",
   "execution_count": 54,
   "id": "cc39290c",
   "metadata": {
    "scrolled": false
   },
   "outputs": [
    {
     "name": "stderr",
     "output_type": "stream",
     "text": [
      "HTTP Error for GET to https://api.spotify.com/v1/me/ with Params: {} returned 401 due to Unauthorized.\n"
     ]
    },
    {
     "ename": "SpotifyException",
     "evalue": "http status: 401, code:-1 - https://api.spotify.com/v1/me/:\n Unauthorized., reason: None",
     "output_type": "error",
     "traceback": [
      "\u001b[0;31m---------------------------------------------------------------------------\u001b[0m",
      "\u001b[0;31mHTTPError\u001b[0m                                 Traceback (most recent call last)",
      "\u001b[0;32m/usr/local/lib/python3.9/site-packages/spotipy/client.py\u001b[0m in \u001b[0;36m_internal_call\u001b[0;34m(self, method, url, payload, params)\u001b[0m\n\u001b[1;32m    244\u001b[0m \u001b[0;34m\u001b[0m\u001b[0m\n\u001b[0;32m--> 245\u001b[0;31m             \u001b[0mresponse\u001b[0m\u001b[0;34m.\u001b[0m\u001b[0mraise_for_status\u001b[0m\u001b[0;34m(\u001b[0m\u001b[0;34m)\u001b[0m\u001b[0;34m\u001b[0m\u001b[0;34m\u001b[0m\u001b[0m\n\u001b[0m\u001b[1;32m    246\u001b[0m             \u001b[0mresults\u001b[0m \u001b[0;34m=\u001b[0m \u001b[0mresponse\u001b[0m\u001b[0;34m.\u001b[0m\u001b[0mjson\u001b[0m\u001b[0;34m(\u001b[0m\u001b[0;34m)\u001b[0m\u001b[0;34m\u001b[0m\u001b[0;34m\u001b[0m\u001b[0m\n",
      "\u001b[0;32m/usr/local/lib/python3.9/site-packages/requests/models.py\u001b[0m in \u001b[0;36mraise_for_status\u001b[0;34m(self)\u001b[0m\n\u001b[1;32m    952\u001b[0m         \u001b[0;32mif\u001b[0m \u001b[0mhttp_error_msg\u001b[0m\u001b[0;34m:\u001b[0m\u001b[0;34m\u001b[0m\u001b[0;34m\u001b[0m\u001b[0m\n\u001b[0;32m--> 953\u001b[0;31m             \u001b[0;32mraise\u001b[0m \u001b[0mHTTPError\u001b[0m\u001b[0;34m(\u001b[0m\u001b[0mhttp_error_msg\u001b[0m\u001b[0;34m,\u001b[0m \u001b[0mresponse\u001b[0m\u001b[0;34m=\u001b[0m\u001b[0mself\u001b[0m\u001b[0;34m)\u001b[0m\u001b[0;34m\u001b[0m\u001b[0;34m\u001b[0m\u001b[0m\n\u001b[0m\u001b[1;32m    954\u001b[0m \u001b[0;34m\u001b[0m\u001b[0m\n",
      "\u001b[0;31mHTTPError\u001b[0m: 401 Client Error: Unauthorized for url: https://api.spotify.com/v1/me/",
      "\nDuring handling of the above exception, another exception occurred:\n",
      "\u001b[0;31mSpotifyException\u001b[0m                          Traceback (most recent call last)",
      "\u001b[0;32m/var/folders/86/_vdp0kq51j5bsxpm4yhzrknw0000gn/T/ipykernel_52222/1079882457.py\u001b[0m in \u001b[0;36m<module>\u001b[0;34m\u001b[0m\n\u001b[0;32m----> 1\u001b[0;31m \u001b[0mspotify\u001b[0m\u001b[0;34m.\u001b[0m\u001b[0mcurrent_user\u001b[0m\u001b[0;34m(\u001b[0m\u001b[0;34m)\u001b[0m\u001b[0;34m\u001b[0m\u001b[0;34m\u001b[0m\u001b[0m\n\u001b[0m",
      "\u001b[0;32m/usr/local/lib/python3.9/site-packages/spotipy/client.py\u001b[0m in \u001b[0;36mcurrent_user\u001b[0;34m(self)\u001b[0m\n\u001b[1;32m   1171\u001b[0m             \u001b[0mAn\u001b[0m \u001b[0malias\u001b[0m \u001b[0;32mfor\u001b[0m \u001b[0mthe\u001b[0m \u001b[0;34m'me'\u001b[0m \u001b[0mmethod\u001b[0m\u001b[0;34m.\u001b[0m\u001b[0;34m\u001b[0m\u001b[0;34m\u001b[0m\u001b[0m\n\u001b[1;32m   1172\u001b[0m         \"\"\"\n\u001b[0;32m-> 1173\u001b[0;31m         \u001b[0;32mreturn\u001b[0m \u001b[0mself\u001b[0m\u001b[0;34m.\u001b[0m\u001b[0mme\u001b[0m\u001b[0;34m(\u001b[0m\u001b[0;34m)\u001b[0m\u001b[0;34m\u001b[0m\u001b[0;34m\u001b[0m\u001b[0m\n\u001b[0m\u001b[1;32m   1174\u001b[0m \u001b[0;34m\u001b[0m\u001b[0m\n\u001b[1;32m   1175\u001b[0m     \u001b[0;32mdef\u001b[0m \u001b[0mcurrent_user_playing_track\u001b[0m\u001b[0;34m(\u001b[0m\u001b[0mself\u001b[0m\u001b[0;34m)\u001b[0m\u001b[0;34m:\u001b[0m\u001b[0;34m\u001b[0m\u001b[0;34m\u001b[0m\u001b[0m\n",
      "\u001b[0;32m/usr/local/lib/python3.9/site-packages/spotipy/client.py\u001b[0m in \u001b[0;36mme\u001b[0;34m(self)\u001b[0m\n\u001b[1;32m   1165\u001b[0m             \u001b[0mAn\u001b[0m \u001b[0malias\u001b[0m \u001b[0;32mfor\u001b[0m \u001b[0mthe\u001b[0m \u001b[0;34m'current_user'\u001b[0m \u001b[0mmethod\u001b[0m\u001b[0;34m.\u001b[0m\u001b[0;34m\u001b[0m\u001b[0;34m\u001b[0m\u001b[0m\n\u001b[1;32m   1166\u001b[0m         \"\"\"\n\u001b[0;32m-> 1167\u001b[0;31m         \u001b[0;32mreturn\u001b[0m \u001b[0mself\u001b[0m\u001b[0;34m.\u001b[0m\u001b[0m_get\u001b[0m\u001b[0;34m(\u001b[0m\u001b[0;34m\"me/\"\u001b[0m\u001b[0;34m)\u001b[0m\u001b[0;34m\u001b[0m\u001b[0;34m\u001b[0m\u001b[0m\n\u001b[0m\u001b[1;32m   1168\u001b[0m \u001b[0;34m\u001b[0m\u001b[0m\n\u001b[1;32m   1169\u001b[0m     \u001b[0;32mdef\u001b[0m \u001b[0mcurrent_user\u001b[0m\u001b[0;34m(\u001b[0m\u001b[0mself\u001b[0m\u001b[0;34m)\u001b[0m\u001b[0;34m:\u001b[0m\u001b[0;34m\u001b[0m\u001b[0;34m\u001b[0m\u001b[0m\n",
      "\u001b[0;32m/usr/local/lib/python3.9/site-packages/spotipy/client.py\u001b[0m in \u001b[0;36m_get\u001b[0;34m(self, url, args, payload, **kwargs)\u001b[0m\n\u001b[1;32m    295\u001b[0m             \u001b[0mkwargs\u001b[0m\u001b[0;34m.\u001b[0m\u001b[0mupdate\u001b[0m\u001b[0;34m(\u001b[0m\u001b[0margs\u001b[0m\u001b[0;34m)\u001b[0m\u001b[0;34m\u001b[0m\u001b[0;34m\u001b[0m\u001b[0m\n\u001b[1;32m    296\u001b[0m \u001b[0;34m\u001b[0m\u001b[0m\n\u001b[0;32m--> 297\u001b[0;31m         \u001b[0;32mreturn\u001b[0m \u001b[0mself\u001b[0m\u001b[0;34m.\u001b[0m\u001b[0m_internal_call\u001b[0m\u001b[0;34m(\u001b[0m\u001b[0;34m\"GET\"\u001b[0m\u001b[0;34m,\u001b[0m \u001b[0murl\u001b[0m\u001b[0;34m,\u001b[0m \u001b[0mpayload\u001b[0m\u001b[0;34m,\u001b[0m \u001b[0mkwargs\u001b[0m\u001b[0;34m)\u001b[0m\u001b[0;34m\u001b[0m\u001b[0;34m\u001b[0m\u001b[0m\n\u001b[0m\u001b[1;32m    298\u001b[0m \u001b[0;34m\u001b[0m\u001b[0m\n\u001b[1;32m    299\u001b[0m     \u001b[0;32mdef\u001b[0m \u001b[0m_post\u001b[0m\u001b[0;34m(\u001b[0m\u001b[0mself\u001b[0m\u001b[0;34m,\u001b[0m \u001b[0murl\u001b[0m\u001b[0;34m,\u001b[0m \u001b[0margs\u001b[0m\u001b[0;34m=\u001b[0m\u001b[0;32mNone\u001b[0m\u001b[0;34m,\u001b[0m \u001b[0mpayload\u001b[0m\u001b[0;34m=\u001b[0m\u001b[0;32mNone\u001b[0m\u001b[0;34m,\u001b[0m \u001b[0;34m**\u001b[0m\u001b[0mkwargs\u001b[0m\u001b[0;34m)\u001b[0m\u001b[0;34m:\u001b[0m\u001b[0;34m\u001b[0m\u001b[0;34m\u001b[0m\u001b[0m\n",
      "\u001b[0;32m/usr/local/lib/python3.9/site-packages/spotipy/client.py\u001b[0m in \u001b[0;36m_internal_call\u001b[0;34m(self, method, url, payload, params)\u001b[0m\n\u001b[1;32m    265\u001b[0m             )\n\u001b[1;32m    266\u001b[0m \u001b[0;34m\u001b[0m\u001b[0m\n\u001b[0;32m--> 267\u001b[0;31m             raise SpotifyException(\n\u001b[0m\u001b[1;32m    268\u001b[0m                 \u001b[0mresponse\u001b[0m\u001b[0;34m.\u001b[0m\u001b[0mstatus_code\u001b[0m\u001b[0;34m,\u001b[0m\u001b[0;34m\u001b[0m\u001b[0;34m\u001b[0m\u001b[0m\n\u001b[1;32m    269\u001b[0m                 \u001b[0;34m-\u001b[0m\u001b[0;36m1\u001b[0m\u001b[0;34m,\u001b[0m\u001b[0;34m\u001b[0m\u001b[0;34m\u001b[0m\u001b[0m\n",
      "\u001b[0;31mSpotifyException\u001b[0m: http status: 401, code:-1 - https://api.spotify.com/v1/me/:\n Unauthorized., reason: None"
     ]
    }
   ],
   "source": [
    "spotify.current_user()"
   ]
  },
  {
   "cell_type": "code",
   "execution_count": 29,
   "id": "5bc1c707",
   "metadata": {
    "scrolled": true
   },
   "outputs": [
    {
     "name": "stderr",
     "output_type": "stream",
     "text": [
      "HTTP Error for GET to https://api.spotify.com/v1/me/playlists with Params: {'limit': 50, 'offset': 0} returned 401 due to Unauthorized.\n"
     ]
    },
    {
     "ename": "SpotifyException",
     "evalue": "http status: 401, code:-1 - https://api.spotify.com/v1/me/playlists?limit=50&offset=0:\n Unauthorized., reason: None",
     "output_type": "error",
     "traceback": [
      "\u001b[0;31m---------------------------------------------------------------------------\u001b[0m",
      "\u001b[0;31mHTTPError\u001b[0m                                 Traceback (most recent call last)",
      "\u001b[0;32m/usr/local/lib/python3.9/site-packages/spotipy/client.py\u001b[0m in \u001b[0;36m_internal_call\u001b[0;34m(self, method, url, payload, params)\u001b[0m\n\u001b[1;32m    244\u001b[0m \u001b[0;34m\u001b[0m\u001b[0m\n\u001b[0;32m--> 245\u001b[0;31m             \u001b[0mresponse\u001b[0m\u001b[0;34m.\u001b[0m\u001b[0mraise_for_status\u001b[0m\u001b[0;34m(\u001b[0m\u001b[0;34m)\u001b[0m\u001b[0;34m\u001b[0m\u001b[0;34m\u001b[0m\u001b[0m\n\u001b[0m\u001b[1;32m    246\u001b[0m             \u001b[0mresults\u001b[0m \u001b[0;34m=\u001b[0m \u001b[0mresponse\u001b[0m\u001b[0;34m.\u001b[0m\u001b[0mjson\u001b[0m\u001b[0;34m(\u001b[0m\u001b[0;34m)\u001b[0m\u001b[0;34m\u001b[0m\u001b[0;34m\u001b[0m\u001b[0m\n",
      "\u001b[0;32m/usr/local/lib/python3.9/site-packages/requests/models.py\u001b[0m in \u001b[0;36mraise_for_status\u001b[0;34m(self)\u001b[0m\n\u001b[1;32m    952\u001b[0m         \u001b[0;32mif\u001b[0m \u001b[0mhttp_error_msg\u001b[0m\u001b[0;34m:\u001b[0m\u001b[0;34m\u001b[0m\u001b[0;34m\u001b[0m\u001b[0m\n\u001b[0;32m--> 953\u001b[0;31m             \u001b[0;32mraise\u001b[0m \u001b[0mHTTPError\u001b[0m\u001b[0;34m(\u001b[0m\u001b[0mhttp_error_msg\u001b[0m\u001b[0;34m,\u001b[0m \u001b[0mresponse\u001b[0m\u001b[0;34m=\u001b[0m\u001b[0mself\u001b[0m\u001b[0;34m)\u001b[0m\u001b[0;34m\u001b[0m\u001b[0;34m\u001b[0m\u001b[0m\n\u001b[0m\u001b[1;32m    954\u001b[0m \u001b[0;34m\u001b[0m\u001b[0m\n",
      "\u001b[0;31mHTTPError\u001b[0m: 401 Client Error: Unauthorized for url: https://api.spotify.com/v1/me/playlists?limit=50&offset=0",
      "\nDuring handling of the above exception, another exception occurred:\n",
      "\u001b[0;31mSpotifyException\u001b[0m                          Traceback (most recent call last)",
      "\u001b[0;32m/var/folders/86/_vdp0kq51j5bsxpm4yhzrknw0000gn/T/ipykernel_52222/2963724167.py\u001b[0m in \u001b[0;36m<module>\u001b[0;34m\u001b[0m\n\u001b[0;32m----> 1\u001b[0;31m \u001b[0mspotify\u001b[0m\u001b[0;34m.\u001b[0m\u001b[0mcurrent_user_playlists\u001b[0m\u001b[0;34m(\u001b[0m\u001b[0;34m)\u001b[0m\u001b[0;34m\u001b[0m\u001b[0;34m\u001b[0m\u001b[0m\n\u001b[0m",
      "\u001b[0;32m/usr/local/lib/python3.9/site-packages/spotipy/client.py\u001b[0m in \u001b[0;36mcurrent_user_playlists\u001b[0;34m(self, limit, offset)\u001b[0m\n\u001b[1;32m    601\u001b[0m                 \u001b[0;34m-\u001b[0m \u001b[0moffset\u001b[0m \u001b[0;34m-\u001b[0m \u001b[0mthe\u001b[0m \u001b[0mindex\u001b[0m \u001b[0mof\u001b[0m \u001b[0mthe\u001b[0m \u001b[0mfirst\u001b[0m \u001b[0mitem\u001b[0m \u001b[0mto\u001b[0m \u001b[0;32mreturn\u001b[0m\u001b[0;34m\u001b[0m\u001b[0;34m\u001b[0m\u001b[0m\n\u001b[1;32m    602\u001b[0m         \"\"\"\n\u001b[0;32m--> 603\u001b[0;31m         \u001b[0;32mreturn\u001b[0m \u001b[0mself\u001b[0m\u001b[0;34m.\u001b[0m\u001b[0m_get\u001b[0m\u001b[0;34m(\u001b[0m\u001b[0;34m\"me/playlists\"\u001b[0m\u001b[0;34m,\u001b[0m \u001b[0mlimit\u001b[0m\u001b[0;34m=\u001b[0m\u001b[0mlimit\u001b[0m\u001b[0;34m,\u001b[0m \u001b[0moffset\u001b[0m\u001b[0;34m=\u001b[0m\u001b[0moffset\u001b[0m\u001b[0;34m)\u001b[0m\u001b[0;34m\u001b[0m\u001b[0;34m\u001b[0m\u001b[0m\n\u001b[0m\u001b[1;32m    604\u001b[0m \u001b[0;34m\u001b[0m\u001b[0m\n\u001b[1;32m    605\u001b[0m     \u001b[0;32mdef\u001b[0m \u001b[0mplaylist\u001b[0m\u001b[0;34m(\u001b[0m\u001b[0mself\u001b[0m\u001b[0;34m,\u001b[0m \u001b[0mplaylist_id\u001b[0m\u001b[0;34m,\u001b[0m \u001b[0mfields\u001b[0m\u001b[0;34m=\u001b[0m\u001b[0;32mNone\u001b[0m\u001b[0;34m,\u001b[0m \u001b[0mmarket\u001b[0m\u001b[0;34m=\u001b[0m\u001b[0;32mNone\u001b[0m\u001b[0;34m,\u001b[0m \u001b[0madditional_types\u001b[0m\u001b[0;34m=\u001b[0m\u001b[0;34m(\u001b[0m\u001b[0;34m\"track\"\u001b[0m\u001b[0;34m,\u001b[0m\u001b[0;34m)\u001b[0m\u001b[0;34m)\u001b[0m\u001b[0;34m:\u001b[0m\u001b[0;34m\u001b[0m\u001b[0;34m\u001b[0m\u001b[0m\n",
      "\u001b[0;32m/usr/local/lib/python3.9/site-packages/spotipy/client.py\u001b[0m in \u001b[0;36m_get\u001b[0;34m(self, url, args, payload, **kwargs)\u001b[0m\n\u001b[1;32m    295\u001b[0m             \u001b[0mkwargs\u001b[0m\u001b[0;34m.\u001b[0m\u001b[0mupdate\u001b[0m\u001b[0;34m(\u001b[0m\u001b[0margs\u001b[0m\u001b[0;34m)\u001b[0m\u001b[0;34m\u001b[0m\u001b[0;34m\u001b[0m\u001b[0m\n\u001b[1;32m    296\u001b[0m \u001b[0;34m\u001b[0m\u001b[0m\n\u001b[0;32m--> 297\u001b[0;31m         \u001b[0;32mreturn\u001b[0m \u001b[0mself\u001b[0m\u001b[0;34m.\u001b[0m\u001b[0m_internal_call\u001b[0m\u001b[0;34m(\u001b[0m\u001b[0;34m\"GET\"\u001b[0m\u001b[0;34m,\u001b[0m \u001b[0murl\u001b[0m\u001b[0;34m,\u001b[0m \u001b[0mpayload\u001b[0m\u001b[0;34m,\u001b[0m \u001b[0mkwargs\u001b[0m\u001b[0;34m)\u001b[0m\u001b[0;34m\u001b[0m\u001b[0;34m\u001b[0m\u001b[0m\n\u001b[0m\u001b[1;32m    298\u001b[0m \u001b[0;34m\u001b[0m\u001b[0m\n\u001b[1;32m    299\u001b[0m     \u001b[0;32mdef\u001b[0m \u001b[0m_post\u001b[0m\u001b[0;34m(\u001b[0m\u001b[0mself\u001b[0m\u001b[0;34m,\u001b[0m \u001b[0murl\u001b[0m\u001b[0;34m,\u001b[0m \u001b[0margs\u001b[0m\u001b[0;34m=\u001b[0m\u001b[0;32mNone\u001b[0m\u001b[0;34m,\u001b[0m \u001b[0mpayload\u001b[0m\u001b[0;34m=\u001b[0m\u001b[0;32mNone\u001b[0m\u001b[0;34m,\u001b[0m \u001b[0;34m**\u001b[0m\u001b[0mkwargs\u001b[0m\u001b[0;34m)\u001b[0m\u001b[0;34m:\u001b[0m\u001b[0;34m\u001b[0m\u001b[0;34m\u001b[0m\u001b[0m\n",
      "\u001b[0;32m/usr/local/lib/python3.9/site-packages/spotipy/client.py\u001b[0m in \u001b[0;36m_internal_call\u001b[0;34m(self, method, url, payload, params)\u001b[0m\n\u001b[1;32m    265\u001b[0m             )\n\u001b[1;32m    266\u001b[0m \u001b[0;34m\u001b[0m\u001b[0m\n\u001b[0;32m--> 267\u001b[0;31m             raise SpotifyException(\n\u001b[0m\u001b[1;32m    268\u001b[0m                 \u001b[0mresponse\u001b[0m\u001b[0;34m.\u001b[0m\u001b[0mstatus_code\u001b[0m\u001b[0;34m,\u001b[0m\u001b[0;34m\u001b[0m\u001b[0;34m\u001b[0m\u001b[0m\n\u001b[1;32m    269\u001b[0m                 \u001b[0;34m-\u001b[0m\u001b[0;36m1\u001b[0m\u001b[0;34m,\u001b[0m\u001b[0;34m\u001b[0m\u001b[0;34m\u001b[0m\u001b[0m\n",
      "\u001b[0;31mSpotifyException\u001b[0m: http status: 401, code:-1 - https://api.spotify.com/v1/me/playlists?limit=50&offset=0:\n Unauthorized., reason: None"
     ]
    }
   ],
   "source": [
    "spotify.current_user_playlists()"
   ]
  },
  {
   "cell_type": "code",
   "execution_count": 28,
   "id": "62f60364",
   "metadata": {
    "scrolled": true
   },
   "outputs": [
    {
     "name": "stderr",
     "output_type": "stream",
     "text": [
      "HTTP Error for GET to https://api.spotify.com/v1/me/player/recently-played with Params: {'limit': 50, 'after': None, 'before': None} returned 403 due to Insufficient client scope\n"
     ]
    },
    {
     "ename": "SpotifyException",
     "evalue": "http status: 403, code:-1 - https://api.spotify.com/v1/me/player/recently-played?limit=50:\n Insufficient client scope, reason: None",
     "output_type": "error",
     "traceback": [
      "\u001b[0;31m---------------------------------------------------------------------------\u001b[0m",
      "\u001b[0;31mHTTPError\u001b[0m                                 Traceback (most recent call last)",
      "\u001b[0;32m/usr/local/lib/python3.9/site-packages/spotipy/client.py\u001b[0m in \u001b[0;36m_internal_call\u001b[0;34m(self, method, url, payload, params)\u001b[0m\n\u001b[1;32m    244\u001b[0m \u001b[0;34m\u001b[0m\u001b[0m\n\u001b[0;32m--> 245\u001b[0;31m             \u001b[0mresponse\u001b[0m\u001b[0;34m.\u001b[0m\u001b[0mraise_for_status\u001b[0m\u001b[0;34m(\u001b[0m\u001b[0;34m)\u001b[0m\u001b[0;34m\u001b[0m\u001b[0;34m\u001b[0m\u001b[0m\n\u001b[0m\u001b[1;32m    246\u001b[0m             \u001b[0mresults\u001b[0m \u001b[0;34m=\u001b[0m \u001b[0mresponse\u001b[0m\u001b[0;34m.\u001b[0m\u001b[0mjson\u001b[0m\u001b[0;34m(\u001b[0m\u001b[0;34m)\u001b[0m\u001b[0;34m\u001b[0m\u001b[0;34m\u001b[0m\u001b[0m\n",
      "\u001b[0;32m/usr/local/lib/python3.9/site-packages/requests/models.py\u001b[0m in \u001b[0;36mraise_for_status\u001b[0;34m(self)\u001b[0m\n\u001b[1;32m    952\u001b[0m         \u001b[0;32mif\u001b[0m \u001b[0mhttp_error_msg\u001b[0m\u001b[0;34m:\u001b[0m\u001b[0;34m\u001b[0m\u001b[0;34m\u001b[0m\u001b[0m\n\u001b[0;32m--> 953\u001b[0;31m             \u001b[0;32mraise\u001b[0m \u001b[0mHTTPError\u001b[0m\u001b[0;34m(\u001b[0m\u001b[0mhttp_error_msg\u001b[0m\u001b[0;34m,\u001b[0m \u001b[0mresponse\u001b[0m\u001b[0;34m=\u001b[0m\u001b[0mself\u001b[0m\u001b[0;34m)\u001b[0m\u001b[0;34m\u001b[0m\u001b[0;34m\u001b[0m\u001b[0m\n\u001b[0m\u001b[1;32m    954\u001b[0m \u001b[0;34m\u001b[0m\u001b[0m\n",
      "\u001b[0;31mHTTPError\u001b[0m: 403 Client Error: Forbidden for url: https://api.spotify.com/v1/me/player/recently-played?limit=50",
      "\nDuring handling of the above exception, another exception occurred:\n",
      "\u001b[0;31mSpotifyException\u001b[0m                          Traceback (most recent call last)",
      "\u001b[0;32m/var/folders/86/_vdp0kq51j5bsxpm4yhzrknw0000gn/T/ipykernel_52222/3696192407.py\u001b[0m in \u001b[0;36m<module>\u001b[0;34m\u001b[0m\n\u001b[0;32m----> 1\u001b[0;31m \u001b[0mspotify\u001b[0m\u001b[0;34m.\u001b[0m\u001b[0mcurrent_user_recently_played\u001b[0m\u001b[0;34m(\u001b[0m\u001b[0;34m)\u001b[0m\u001b[0;34m\u001b[0m\u001b[0;34m\u001b[0m\u001b[0m\n\u001b[0m",
      "\u001b[0;32m/usr/local/lib/python3.9/site-packages/spotipy/client.py\u001b[0m in \u001b[0;36mcurrent_user_recently_played\u001b[0;34m(self, limit, after, before)\u001b[0m\n\u001b[1;32m   1442\u001b[0m                            \u001b[0mCannot\u001b[0m \u001b[0mbe\u001b[0m \u001b[0mused\u001b[0m \u001b[0;32mif\u001b[0m \u001b[0mafter\u001b[0m \u001b[0;32mis\u001b[0m \u001b[0mspecified\u001b[0m\u001b[0;34m\u001b[0m\u001b[0;34m\u001b[0m\u001b[0m\n\u001b[1;32m   1443\u001b[0m         \"\"\"\n\u001b[0;32m-> 1444\u001b[0;31m         return self._get(\n\u001b[0m\u001b[1;32m   1445\u001b[0m             \u001b[0;34m\"me/player/recently-played\"\u001b[0m\u001b[0;34m,\u001b[0m\u001b[0;34m\u001b[0m\u001b[0;34m\u001b[0m\u001b[0m\n\u001b[1;32m   1446\u001b[0m             \u001b[0mlimit\u001b[0m\u001b[0;34m=\u001b[0m\u001b[0mlimit\u001b[0m\u001b[0;34m,\u001b[0m\u001b[0;34m\u001b[0m\u001b[0;34m\u001b[0m\u001b[0m\n",
      "\u001b[0;32m/usr/local/lib/python3.9/site-packages/spotipy/client.py\u001b[0m in \u001b[0;36m_get\u001b[0;34m(self, url, args, payload, **kwargs)\u001b[0m\n\u001b[1;32m    295\u001b[0m             \u001b[0mkwargs\u001b[0m\u001b[0;34m.\u001b[0m\u001b[0mupdate\u001b[0m\u001b[0;34m(\u001b[0m\u001b[0margs\u001b[0m\u001b[0;34m)\u001b[0m\u001b[0;34m\u001b[0m\u001b[0;34m\u001b[0m\u001b[0m\n\u001b[1;32m    296\u001b[0m \u001b[0;34m\u001b[0m\u001b[0m\n\u001b[0;32m--> 297\u001b[0;31m         \u001b[0;32mreturn\u001b[0m \u001b[0mself\u001b[0m\u001b[0;34m.\u001b[0m\u001b[0m_internal_call\u001b[0m\u001b[0;34m(\u001b[0m\u001b[0;34m\"GET\"\u001b[0m\u001b[0;34m,\u001b[0m \u001b[0murl\u001b[0m\u001b[0;34m,\u001b[0m \u001b[0mpayload\u001b[0m\u001b[0;34m,\u001b[0m \u001b[0mkwargs\u001b[0m\u001b[0;34m)\u001b[0m\u001b[0;34m\u001b[0m\u001b[0;34m\u001b[0m\u001b[0m\n\u001b[0m\u001b[1;32m    298\u001b[0m \u001b[0;34m\u001b[0m\u001b[0m\n\u001b[1;32m    299\u001b[0m     \u001b[0;32mdef\u001b[0m \u001b[0m_post\u001b[0m\u001b[0;34m(\u001b[0m\u001b[0mself\u001b[0m\u001b[0;34m,\u001b[0m \u001b[0murl\u001b[0m\u001b[0;34m,\u001b[0m \u001b[0margs\u001b[0m\u001b[0;34m=\u001b[0m\u001b[0;32mNone\u001b[0m\u001b[0;34m,\u001b[0m \u001b[0mpayload\u001b[0m\u001b[0;34m=\u001b[0m\u001b[0;32mNone\u001b[0m\u001b[0;34m,\u001b[0m \u001b[0;34m**\u001b[0m\u001b[0mkwargs\u001b[0m\u001b[0;34m)\u001b[0m\u001b[0;34m:\u001b[0m\u001b[0;34m\u001b[0m\u001b[0;34m\u001b[0m\u001b[0m\n",
      "\u001b[0;32m/usr/local/lib/python3.9/site-packages/spotipy/client.py\u001b[0m in \u001b[0;36m_internal_call\u001b[0;34m(self, method, url, payload, params)\u001b[0m\n\u001b[1;32m    265\u001b[0m             )\n\u001b[1;32m    266\u001b[0m \u001b[0;34m\u001b[0m\u001b[0m\n\u001b[0;32m--> 267\u001b[0;31m             raise SpotifyException(\n\u001b[0m\u001b[1;32m    268\u001b[0m                 \u001b[0mresponse\u001b[0m\u001b[0;34m.\u001b[0m\u001b[0mstatus_code\u001b[0m\u001b[0;34m,\u001b[0m\u001b[0;34m\u001b[0m\u001b[0;34m\u001b[0m\u001b[0m\n\u001b[1;32m    269\u001b[0m                 \u001b[0;34m-\u001b[0m\u001b[0;36m1\u001b[0m\u001b[0;34m,\u001b[0m\u001b[0;34m\u001b[0m\u001b[0;34m\u001b[0m\u001b[0m\n",
      "\u001b[0;31mSpotifyException\u001b[0m: http status: 403, code:-1 - https://api.spotify.com/v1/me/player/recently-played?limit=50:\n Insufficient client scope, reason: None"
     ]
    }
   ],
   "source": [
    "spotify.current_user_recently_played()"
   ]
  },
  {
   "cell_type": "code",
   "execution_count": 30,
   "id": "0de5916c",
   "metadata": {
    "scrolled": true
   },
   "outputs": [
    {
     "name": "stderr",
     "output_type": "stream",
     "text": [
      "HTTP Error for GET to https://api.spotify.com/v1/me/top/artists with Params: {'time_range': 'medium_term', 'limit': 20, 'offset': 0} returned 403 due to None\n"
     ]
    },
    {
     "ename": "SpotifyException",
     "evalue": "http status: 403, code:-1 - https://api.spotify.com/v1/me/top/artists?time_range=medium_term&limit=20&offset=0:\n None, reason: None",
     "output_type": "error",
     "traceback": [
      "\u001b[0;31m---------------------------------------------------------------------------\u001b[0m",
      "\u001b[0;31mHTTPError\u001b[0m                                 Traceback (most recent call last)",
      "\u001b[0;32m/usr/local/lib/python3.9/site-packages/spotipy/client.py\u001b[0m in \u001b[0;36m_internal_call\u001b[0;34m(self, method, url, payload, params)\u001b[0m\n\u001b[1;32m    244\u001b[0m \u001b[0;34m\u001b[0m\u001b[0m\n\u001b[0;32m--> 245\u001b[0;31m             \u001b[0mresponse\u001b[0m\u001b[0;34m.\u001b[0m\u001b[0mraise_for_status\u001b[0m\u001b[0;34m(\u001b[0m\u001b[0;34m)\u001b[0m\u001b[0;34m\u001b[0m\u001b[0;34m\u001b[0m\u001b[0m\n\u001b[0m\u001b[1;32m    246\u001b[0m             \u001b[0mresults\u001b[0m \u001b[0;34m=\u001b[0m \u001b[0mresponse\u001b[0m\u001b[0;34m.\u001b[0m\u001b[0mjson\u001b[0m\u001b[0;34m(\u001b[0m\u001b[0;34m)\u001b[0m\u001b[0;34m\u001b[0m\u001b[0;34m\u001b[0m\u001b[0m\n",
      "\u001b[0;32m/usr/local/lib/python3.9/site-packages/requests/models.py\u001b[0m in \u001b[0;36mraise_for_status\u001b[0;34m(self)\u001b[0m\n\u001b[1;32m    952\u001b[0m         \u001b[0;32mif\u001b[0m \u001b[0mhttp_error_msg\u001b[0m\u001b[0;34m:\u001b[0m\u001b[0;34m\u001b[0m\u001b[0;34m\u001b[0m\u001b[0m\n\u001b[0;32m--> 953\u001b[0;31m             \u001b[0;32mraise\u001b[0m \u001b[0mHTTPError\u001b[0m\u001b[0;34m(\u001b[0m\u001b[0mhttp_error_msg\u001b[0m\u001b[0;34m,\u001b[0m \u001b[0mresponse\u001b[0m\u001b[0;34m=\u001b[0m\u001b[0mself\u001b[0m\u001b[0;34m)\u001b[0m\u001b[0;34m\u001b[0m\u001b[0;34m\u001b[0m\u001b[0m\n\u001b[0m\u001b[1;32m    954\u001b[0m \u001b[0;34m\u001b[0m\u001b[0m\n",
      "\u001b[0;31mHTTPError\u001b[0m: 403 Client Error: Forbidden for url: https://api.spotify.com/v1/me/top/artists?time_range=medium_term&limit=20&offset=0",
      "\nDuring handling of the above exception, another exception occurred:\n",
      "\u001b[0;31mSpotifyException\u001b[0m                          Traceback (most recent call last)",
      "\u001b[0;32m/var/folders/86/_vdp0kq51j5bsxpm4yhzrknw0000gn/T/ipykernel_52222/3528298630.py\u001b[0m in \u001b[0;36m<module>\u001b[0;34m\u001b[0m\n\u001b[0;32m----> 1\u001b[0;31m \u001b[0mspotify\u001b[0m\u001b[0;34m.\u001b[0m\u001b[0mcurrent_user_top_artists\u001b[0m\u001b[0;34m(\u001b[0m\u001b[0;34m)\u001b[0m\u001b[0;34m\u001b[0m\u001b[0;34m\u001b[0m\u001b[0m\n\u001b[0m",
      "\u001b[0;32m/usr/local/lib/python3.9/site-packages/spotipy/client.py\u001b[0m in \u001b[0;36mcurrent_user_top_artists\u001b[0;34m(self, limit, offset, time_range)\u001b[0m\n\u001b[1;32m   1411\u001b[0m                   \u001b[0mValid\u001b[0m\u001b[0;34m-\u001b[0m\u001b[0mvalues\u001b[0m\u001b[0;34m:\u001b[0m \u001b[0mshort_term\u001b[0m\u001b[0;34m,\u001b[0m \u001b[0mmedium_term\u001b[0m\u001b[0;34m,\u001b[0m \u001b[0mlong_term\u001b[0m\u001b[0;34m\u001b[0m\u001b[0;34m\u001b[0m\u001b[0m\n\u001b[1;32m   1412\u001b[0m         \"\"\"\n\u001b[0;32m-> 1413\u001b[0;31m         return self._get(\n\u001b[0m\u001b[1;32m   1414\u001b[0m             \u001b[0;34m\"me/top/artists\"\u001b[0m\u001b[0;34m,\u001b[0m \u001b[0mtime_range\u001b[0m\u001b[0;34m=\u001b[0m\u001b[0mtime_range\u001b[0m\u001b[0;34m,\u001b[0m \u001b[0mlimit\u001b[0m\u001b[0;34m=\u001b[0m\u001b[0mlimit\u001b[0m\u001b[0;34m,\u001b[0m \u001b[0moffset\u001b[0m\u001b[0;34m=\u001b[0m\u001b[0moffset\u001b[0m\u001b[0;34m\u001b[0m\u001b[0;34m\u001b[0m\u001b[0m\n\u001b[1;32m   1415\u001b[0m         )\n",
      "\u001b[0;32m/usr/local/lib/python3.9/site-packages/spotipy/client.py\u001b[0m in \u001b[0;36m_get\u001b[0;34m(self, url, args, payload, **kwargs)\u001b[0m\n\u001b[1;32m    295\u001b[0m             \u001b[0mkwargs\u001b[0m\u001b[0;34m.\u001b[0m\u001b[0mupdate\u001b[0m\u001b[0;34m(\u001b[0m\u001b[0margs\u001b[0m\u001b[0;34m)\u001b[0m\u001b[0;34m\u001b[0m\u001b[0;34m\u001b[0m\u001b[0m\n\u001b[1;32m    296\u001b[0m \u001b[0;34m\u001b[0m\u001b[0m\n\u001b[0;32m--> 297\u001b[0;31m         \u001b[0;32mreturn\u001b[0m \u001b[0mself\u001b[0m\u001b[0;34m.\u001b[0m\u001b[0m_internal_call\u001b[0m\u001b[0;34m(\u001b[0m\u001b[0;34m\"GET\"\u001b[0m\u001b[0;34m,\u001b[0m \u001b[0murl\u001b[0m\u001b[0;34m,\u001b[0m \u001b[0mpayload\u001b[0m\u001b[0;34m,\u001b[0m \u001b[0mkwargs\u001b[0m\u001b[0;34m)\u001b[0m\u001b[0;34m\u001b[0m\u001b[0;34m\u001b[0m\u001b[0m\n\u001b[0m\u001b[1;32m    298\u001b[0m \u001b[0;34m\u001b[0m\u001b[0m\n\u001b[1;32m    299\u001b[0m     \u001b[0;32mdef\u001b[0m \u001b[0m_post\u001b[0m\u001b[0;34m(\u001b[0m\u001b[0mself\u001b[0m\u001b[0;34m,\u001b[0m \u001b[0murl\u001b[0m\u001b[0;34m,\u001b[0m \u001b[0margs\u001b[0m\u001b[0;34m=\u001b[0m\u001b[0;32mNone\u001b[0m\u001b[0;34m,\u001b[0m \u001b[0mpayload\u001b[0m\u001b[0;34m=\u001b[0m\u001b[0;32mNone\u001b[0m\u001b[0;34m,\u001b[0m \u001b[0;34m**\u001b[0m\u001b[0mkwargs\u001b[0m\u001b[0;34m)\u001b[0m\u001b[0;34m:\u001b[0m\u001b[0;34m\u001b[0m\u001b[0;34m\u001b[0m\u001b[0m\n",
      "\u001b[0;32m/usr/local/lib/python3.9/site-packages/spotipy/client.py\u001b[0m in \u001b[0;36m_internal_call\u001b[0;34m(self, method, url, payload, params)\u001b[0m\n\u001b[1;32m    265\u001b[0m             )\n\u001b[1;32m    266\u001b[0m \u001b[0;34m\u001b[0m\u001b[0m\n\u001b[0;32m--> 267\u001b[0;31m             raise SpotifyException(\n\u001b[0m\u001b[1;32m    268\u001b[0m                 \u001b[0mresponse\u001b[0m\u001b[0;34m.\u001b[0m\u001b[0mstatus_code\u001b[0m\u001b[0;34m,\u001b[0m\u001b[0;34m\u001b[0m\u001b[0;34m\u001b[0m\u001b[0m\n\u001b[1;32m    269\u001b[0m                 \u001b[0;34m-\u001b[0m\u001b[0;36m1\u001b[0m\u001b[0;34m,\u001b[0m\u001b[0;34m\u001b[0m\u001b[0;34m\u001b[0m\u001b[0m\n",
      "\u001b[0;31mSpotifyException\u001b[0m: http status: 403, code:-1 - https://api.spotify.com/v1/me/top/artists?time_range=medium_term&limit=20&offset=0:\n None, reason: None"
     ]
    }
   ],
   "source": [
    "spotify.current_user_top_artists()"
   ]
  },
  {
   "cell_type": "code",
   "execution_count": 31,
   "id": "2b342874",
   "metadata": {
    "scrolled": true
   },
   "outputs": [
    {
     "name": "stderr",
     "output_type": "stream",
     "text": [
      "HTTP Error for GET to https://api.spotify.com/v1/me/top/tracks with Params: {'time_range': 'medium_term', 'limit': 20, 'offset': 0} returned 403 due to None\n"
     ]
    },
    {
     "ename": "SpotifyException",
     "evalue": "http status: 403, code:-1 - https://api.spotify.com/v1/me/top/tracks?time_range=medium_term&limit=20&offset=0:\n None, reason: None",
     "output_type": "error",
     "traceback": [
      "\u001b[0;31m---------------------------------------------------------------------------\u001b[0m",
      "\u001b[0;31mHTTPError\u001b[0m                                 Traceback (most recent call last)",
      "\u001b[0;32m/usr/local/lib/python3.9/site-packages/spotipy/client.py\u001b[0m in \u001b[0;36m_internal_call\u001b[0;34m(self, method, url, payload, params)\u001b[0m\n\u001b[1;32m    244\u001b[0m \u001b[0;34m\u001b[0m\u001b[0m\n\u001b[0;32m--> 245\u001b[0;31m             \u001b[0mresponse\u001b[0m\u001b[0;34m.\u001b[0m\u001b[0mraise_for_status\u001b[0m\u001b[0;34m(\u001b[0m\u001b[0;34m)\u001b[0m\u001b[0;34m\u001b[0m\u001b[0;34m\u001b[0m\u001b[0m\n\u001b[0m\u001b[1;32m    246\u001b[0m             \u001b[0mresults\u001b[0m \u001b[0;34m=\u001b[0m \u001b[0mresponse\u001b[0m\u001b[0;34m.\u001b[0m\u001b[0mjson\u001b[0m\u001b[0;34m(\u001b[0m\u001b[0;34m)\u001b[0m\u001b[0;34m\u001b[0m\u001b[0;34m\u001b[0m\u001b[0m\n",
      "\u001b[0;32m/usr/local/lib/python3.9/site-packages/requests/models.py\u001b[0m in \u001b[0;36mraise_for_status\u001b[0;34m(self)\u001b[0m\n\u001b[1;32m    952\u001b[0m         \u001b[0;32mif\u001b[0m \u001b[0mhttp_error_msg\u001b[0m\u001b[0;34m:\u001b[0m\u001b[0;34m\u001b[0m\u001b[0;34m\u001b[0m\u001b[0m\n\u001b[0;32m--> 953\u001b[0;31m             \u001b[0;32mraise\u001b[0m \u001b[0mHTTPError\u001b[0m\u001b[0;34m(\u001b[0m\u001b[0mhttp_error_msg\u001b[0m\u001b[0;34m,\u001b[0m \u001b[0mresponse\u001b[0m\u001b[0;34m=\u001b[0m\u001b[0mself\u001b[0m\u001b[0;34m)\u001b[0m\u001b[0;34m\u001b[0m\u001b[0;34m\u001b[0m\u001b[0m\n\u001b[0m\u001b[1;32m    954\u001b[0m \u001b[0;34m\u001b[0m\u001b[0m\n",
      "\u001b[0;31mHTTPError\u001b[0m: 403 Client Error: Forbidden for url: https://api.spotify.com/v1/me/top/tracks?time_range=medium_term&limit=20&offset=0",
      "\nDuring handling of the above exception, another exception occurred:\n",
      "\u001b[0;31mSpotifyException\u001b[0m                          Traceback (most recent call last)",
      "\u001b[0;32m/var/folders/86/_vdp0kq51j5bsxpm4yhzrknw0000gn/T/ipykernel_52222/2799247876.py\u001b[0m in \u001b[0;36m<module>\u001b[0;34m\u001b[0m\n\u001b[0;32m----> 1\u001b[0;31m \u001b[0mspotify\u001b[0m\u001b[0;34m.\u001b[0m\u001b[0mcurrent_user_top_tracks\u001b[0m\u001b[0;34m(\u001b[0m\u001b[0;34m)\u001b[0m\u001b[0;34m\u001b[0m\u001b[0;34m\u001b[0m\u001b[0m\n\u001b[0m",
      "\u001b[0;32m/usr/local/lib/python3.9/site-packages/spotipy/client.py\u001b[0m in \u001b[0;36mcurrent_user_top_tracks\u001b[0;34m(self, limit, offset, time_range)\u001b[0m\n\u001b[1;32m   1426\u001b[0m                   \u001b[0mValid\u001b[0m\u001b[0;34m-\u001b[0m\u001b[0mvalues\u001b[0m\u001b[0;34m:\u001b[0m \u001b[0mshort_term\u001b[0m\u001b[0;34m,\u001b[0m \u001b[0mmedium_term\u001b[0m\u001b[0;34m,\u001b[0m \u001b[0mlong_term\u001b[0m\u001b[0;34m\u001b[0m\u001b[0;34m\u001b[0m\u001b[0m\n\u001b[1;32m   1427\u001b[0m         \"\"\"\n\u001b[0;32m-> 1428\u001b[0;31m         return self._get(\n\u001b[0m\u001b[1;32m   1429\u001b[0m             \u001b[0;34m\"me/top/tracks\"\u001b[0m\u001b[0;34m,\u001b[0m \u001b[0mtime_range\u001b[0m\u001b[0;34m=\u001b[0m\u001b[0mtime_range\u001b[0m\u001b[0;34m,\u001b[0m \u001b[0mlimit\u001b[0m\u001b[0;34m=\u001b[0m\u001b[0mlimit\u001b[0m\u001b[0;34m,\u001b[0m \u001b[0moffset\u001b[0m\u001b[0;34m=\u001b[0m\u001b[0moffset\u001b[0m\u001b[0;34m\u001b[0m\u001b[0;34m\u001b[0m\u001b[0m\n\u001b[1;32m   1430\u001b[0m         )\n",
      "\u001b[0;32m/usr/local/lib/python3.9/site-packages/spotipy/client.py\u001b[0m in \u001b[0;36m_get\u001b[0;34m(self, url, args, payload, **kwargs)\u001b[0m\n\u001b[1;32m    295\u001b[0m             \u001b[0mkwargs\u001b[0m\u001b[0;34m.\u001b[0m\u001b[0mupdate\u001b[0m\u001b[0;34m(\u001b[0m\u001b[0margs\u001b[0m\u001b[0;34m)\u001b[0m\u001b[0;34m\u001b[0m\u001b[0;34m\u001b[0m\u001b[0m\n\u001b[1;32m    296\u001b[0m \u001b[0;34m\u001b[0m\u001b[0m\n\u001b[0;32m--> 297\u001b[0;31m         \u001b[0;32mreturn\u001b[0m \u001b[0mself\u001b[0m\u001b[0;34m.\u001b[0m\u001b[0m_internal_call\u001b[0m\u001b[0;34m(\u001b[0m\u001b[0;34m\"GET\"\u001b[0m\u001b[0;34m,\u001b[0m \u001b[0murl\u001b[0m\u001b[0;34m,\u001b[0m \u001b[0mpayload\u001b[0m\u001b[0;34m,\u001b[0m \u001b[0mkwargs\u001b[0m\u001b[0;34m)\u001b[0m\u001b[0;34m\u001b[0m\u001b[0;34m\u001b[0m\u001b[0m\n\u001b[0m\u001b[1;32m    298\u001b[0m \u001b[0;34m\u001b[0m\u001b[0m\n\u001b[1;32m    299\u001b[0m     \u001b[0;32mdef\u001b[0m \u001b[0m_post\u001b[0m\u001b[0;34m(\u001b[0m\u001b[0mself\u001b[0m\u001b[0;34m,\u001b[0m \u001b[0murl\u001b[0m\u001b[0;34m,\u001b[0m \u001b[0margs\u001b[0m\u001b[0;34m=\u001b[0m\u001b[0;32mNone\u001b[0m\u001b[0;34m,\u001b[0m \u001b[0mpayload\u001b[0m\u001b[0;34m=\u001b[0m\u001b[0;32mNone\u001b[0m\u001b[0;34m,\u001b[0m \u001b[0;34m**\u001b[0m\u001b[0mkwargs\u001b[0m\u001b[0;34m)\u001b[0m\u001b[0;34m:\u001b[0m\u001b[0;34m\u001b[0m\u001b[0;34m\u001b[0m\u001b[0m\n",
      "\u001b[0;32m/usr/local/lib/python3.9/site-packages/spotipy/client.py\u001b[0m in \u001b[0;36m_internal_call\u001b[0;34m(self, method, url, payload, params)\u001b[0m\n\u001b[1;32m    265\u001b[0m             )\n\u001b[1;32m    266\u001b[0m \u001b[0;34m\u001b[0m\u001b[0m\n\u001b[0;32m--> 267\u001b[0;31m             raise SpotifyException(\n\u001b[0m\u001b[1;32m    268\u001b[0m                 \u001b[0mresponse\u001b[0m\u001b[0;34m.\u001b[0m\u001b[0mstatus_code\u001b[0m\u001b[0;34m,\u001b[0m\u001b[0;34m\u001b[0m\u001b[0;34m\u001b[0m\u001b[0m\n\u001b[1;32m    269\u001b[0m                 \u001b[0;34m-\u001b[0m\u001b[0;36m1\u001b[0m\u001b[0;34m,\u001b[0m\u001b[0;34m\u001b[0m\u001b[0;34m\u001b[0m\u001b[0m\n",
      "\u001b[0;31mSpotifyException\u001b[0m: http status: 403, code:-1 - https://api.spotify.com/v1/me/top/tracks?time_range=medium_term&limit=20&offset=0:\n None, reason: None"
     ]
    }
   ],
   "source": [
    "spotify.current_user_top_tracks()"
   ]
  },
  {
   "cell_type": "code",
   "execution_count": 32,
   "id": "b15071a1",
   "metadata": {},
   "outputs": [
    {
     "data": {
      "text/plain": [
       "{'display_name': 'Jay',\n",
       " 'external_urls': {'spotify': 'https://open.spotify.com/user/seryu.lucky'},\n",
       " 'followers': {'href': None, 'total': 4},\n",
       " 'href': 'https://api.spotify.com/v1/users/seryu.lucky',\n",
       " 'id': 'seryu.lucky',\n",
       " 'images': [{'height': None,\n",
       "   'url': 'https://i.scdn.co/image/ab6775700000ee853324db7426319f261bdb7968',\n",
       "   'width': None}],\n",
       " 'type': 'user',\n",
       " 'uri': 'spotify:user:seryu.lucky'}"
      ]
     },
     "execution_count": 32,
     "metadata": {},
     "output_type": "execute_result"
    }
   ],
   "source": [
    "spotify.user('seryu.lucky')"
   ]
  },
  {
   "cell_type": "code",
   "execution_count": 43,
   "id": "8f087067",
   "metadata": {
    "scrolled": true
   },
   "outputs": [
    {
     "name": "stderr",
     "output_type": "stream",
     "text": [
      "HTTP Error for GET to https://api.spotify.com/v1/users/seryu.lucky/starred with Params: {} returned 401 due to Unauthorized.\n"
     ]
    },
    {
     "ename": "SpotifyException",
     "evalue": "http status: 401, code:-1 - https://api.spotify.com/v1/users/seryu.lucky/starred:\n Unauthorized., reason: None",
     "output_type": "error",
     "traceback": [
      "\u001b[0;31m---------------------------------------------------------------------------\u001b[0m",
      "\u001b[0;31mHTTPError\u001b[0m                                 Traceback (most recent call last)",
      "\u001b[0;32m/usr/local/lib/python3.9/site-packages/spotipy/client.py\u001b[0m in \u001b[0;36m_internal_call\u001b[0;34m(self, method, url, payload, params)\u001b[0m\n\u001b[1;32m    244\u001b[0m \u001b[0;34m\u001b[0m\u001b[0m\n\u001b[0;32m--> 245\u001b[0;31m             \u001b[0mresponse\u001b[0m\u001b[0;34m.\u001b[0m\u001b[0mraise_for_status\u001b[0m\u001b[0;34m(\u001b[0m\u001b[0;34m)\u001b[0m\u001b[0;34m\u001b[0m\u001b[0;34m\u001b[0m\u001b[0m\n\u001b[0m\u001b[1;32m    246\u001b[0m             \u001b[0mresults\u001b[0m \u001b[0;34m=\u001b[0m \u001b[0mresponse\u001b[0m\u001b[0;34m.\u001b[0m\u001b[0mjson\u001b[0m\u001b[0;34m(\u001b[0m\u001b[0;34m)\u001b[0m\u001b[0;34m\u001b[0m\u001b[0;34m\u001b[0m\u001b[0m\n",
      "\u001b[0;32m/usr/local/lib/python3.9/site-packages/requests/models.py\u001b[0m in \u001b[0;36mraise_for_status\u001b[0;34m(self)\u001b[0m\n\u001b[1;32m    952\u001b[0m         \u001b[0;32mif\u001b[0m \u001b[0mhttp_error_msg\u001b[0m\u001b[0;34m:\u001b[0m\u001b[0;34m\u001b[0m\u001b[0;34m\u001b[0m\u001b[0m\n\u001b[0;32m--> 953\u001b[0;31m             \u001b[0;32mraise\u001b[0m \u001b[0mHTTPError\u001b[0m\u001b[0;34m(\u001b[0m\u001b[0mhttp_error_msg\u001b[0m\u001b[0;34m,\u001b[0m \u001b[0mresponse\u001b[0m\u001b[0;34m=\u001b[0m\u001b[0mself\u001b[0m\u001b[0;34m)\u001b[0m\u001b[0;34m\u001b[0m\u001b[0;34m\u001b[0m\u001b[0m\n\u001b[0m\u001b[1;32m    954\u001b[0m \u001b[0;34m\u001b[0m\u001b[0m\n",
      "\u001b[0;31mHTTPError\u001b[0m: 401 Client Error: Unauthorized for url: https://api.spotify.com/v1/users/seryu.lucky/starred",
      "\nDuring handling of the above exception, another exception occurred:\n",
      "\u001b[0;31mSpotifyException\u001b[0m                          Traceback (most recent call last)",
      "\u001b[0;32m/var/folders/86/_vdp0kq51j5bsxpm4yhzrknw0000gn/T/ipykernel_52222/1755764930.py\u001b[0m in \u001b[0;36m<module>\u001b[0;34m\u001b[0m\n\u001b[0;32m----> 1\u001b[0;31m \u001b[0mspotify\u001b[0m\u001b[0;34m.\u001b[0m\u001b[0muser_playlist\u001b[0m\u001b[0;34m(\u001b[0m\u001b[0;34m'seryu.lucky'\u001b[0m\u001b[0;34m)\u001b[0m\u001b[0;34m\u001b[0m\u001b[0;34m\u001b[0m\u001b[0m\n\u001b[0m",
      "\u001b[0;32m/usr/local/lib/python3.9/site-packages/spotipy/client.py\u001b[0m in \u001b[0;36muser_playlist\u001b[0;34m(self, user, playlist_id, fields, market)\u001b[0m\n\u001b[1;32m    718\u001b[0m         \"\"\"\n\u001b[1;32m    719\u001b[0m         \u001b[0;32mif\u001b[0m \u001b[0mplaylist_id\u001b[0m \u001b[0;32mis\u001b[0m \u001b[0;32mNone\u001b[0m\u001b[0;34m:\u001b[0m\u001b[0;34m\u001b[0m\u001b[0;34m\u001b[0m\u001b[0m\n\u001b[0;32m--> 720\u001b[0;31m             \u001b[0;32mreturn\u001b[0m \u001b[0mself\u001b[0m\u001b[0;34m.\u001b[0m\u001b[0m_get\u001b[0m\u001b[0;34m(\u001b[0m\u001b[0;34m\"users/%s/starred\"\u001b[0m \u001b[0;34m%\u001b[0m \u001b[0muser\u001b[0m\u001b[0;34m)\u001b[0m\u001b[0;34m\u001b[0m\u001b[0;34m\u001b[0m\u001b[0m\n\u001b[0m\u001b[1;32m    721\u001b[0m         \u001b[0;32mreturn\u001b[0m \u001b[0mself\u001b[0m\u001b[0;34m.\u001b[0m\u001b[0mplaylist\u001b[0m\u001b[0;34m(\u001b[0m\u001b[0mplaylist_id\u001b[0m\u001b[0;34m,\u001b[0m \u001b[0mfields\u001b[0m\u001b[0;34m=\u001b[0m\u001b[0mfields\u001b[0m\u001b[0;34m,\u001b[0m \u001b[0mmarket\u001b[0m\u001b[0;34m=\u001b[0m\u001b[0mmarket\u001b[0m\u001b[0;34m)\u001b[0m\u001b[0;34m\u001b[0m\u001b[0;34m\u001b[0m\u001b[0m\n\u001b[1;32m    722\u001b[0m \u001b[0;34m\u001b[0m\u001b[0m\n",
      "\u001b[0;32m/usr/local/lib/python3.9/site-packages/spotipy/client.py\u001b[0m in \u001b[0;36m_get\u001b[0;34m(self, url, args, payload, **kwargs)\u001b[0m\n\u001b[1;32m    295\u001b[0m             \u001b[0mkwargs\u001b[0m\u001b[0;34m.\u001b[0m\u001b[0mupdate\u001b[0m\u001b[0;34m(\u001b[0m\u001b[0margs\u001b[0m\u001b[0;34m)\u001b[0m\u001b[0;34m\u001b[0m\u001b[0;34m\u001b[0m\u001b[0m\n\u001b[1;32m    296\u001b[0m \u001b[0;34m\u001b[0m\u001b[0m\n\u001b[0;32m--> 297\u001b[0;31m         \u001b[0;32mreturn\u001b[0m \u001b[0mself\u001b[0m\u001b[0;34m.\u001b[0m\u001b[0m_internal_call\u001b[0m\u001b[0;34m(\u001b[0m\u001b[0;34m\"GET\"\u001b[0m\u001b[0;34m,\u001b[0m \u001b[0murl\u001b[0m\u001b[0;34m,\u001b[0m \u001b[0mpayload\u001b[0m\u001b[0;34m,\u001b[0m \u001b[0mkwargs\u001b[0m\u001b[0;34m)\u001b[0m\u001b[0;34m\u001b[0m\u001b[0;34m\u001b[0m\u001b[0m\n\u001b[0m\u001b[1;32m    298\u001b[0m \u001b[0;34m\u001b[0m\u001b[0m\n\u001b[1;32m    299\u001b[0m     \u001b[0;32mdef\u001b[0m \u001b[0m_post\u001b[0m\u001b[0;34m(\u001b[0m\u001b[0mself\u001b[0m\u001b[0;34m,\u001b[0m \u001b[0murl\u001b[0m\u001b[0;34m,\u001b[0m \u001b[0margs\u001b[0m\u001b[0;34m=\u001b[0m\u001b[0;32mNone\u001b[0m\u001b[0;34m,\u001b[0m \u001b[0mpayload\u001b[0m\u001b[0;34m=\u001b[0m\u001b[0;32mNone\u001b[0m\u001b[0;34m,\u001b[0m \u001b[0;34m**\u001b[0m\u001b[0mkwargs\u001b[0m\u001b[0;34m)\u001b[0m\u001b[0;34m:\u001b[0m\u001b[0;34m\u001b[0m\u001b[0;34m\u001b[0m\u001b[0m\n",
      "\u001b[0;32m/usr/local/lib/python3.9/site-packages/spotipy/client.py\u001b[0m in \u001b[0;36m_internal_call\u001b[0;34m(self, method, url, payload, params)\u001b[0m\n\u001b[1;32m    265\u001b[0m             )\n\u001b[1;32m    266\u001b[0m \u001b[0;34m\u001b[0m\u001b[0m\n\u001b[0;32m--> 267\u001b[0;31m             raise SpotifyException(\n\u001b[0m\u001b[1;32m    268\u001b[0m                 \u001b[0mresponse\u001b[0m\u001b[0;34m.\u001b[0m\u001b[0mstatus_code\u001b[0m\u001b[0;34m,\u001b[0m\u001b[0;34m\u001b[0m\u001b[0;34m\u001b[0m\u001b[0m\n\u001b[1;32m    269\u001b[0m                 \u001b[0;34m-\u001b[0m\u001b[0;36m1\u001b[0m\u001b[0;34m,\u001b[0m\u001b[0;34m\u001b[0m\u001b[0;34m\u001b[0m\u001b[0m\n",
      "\u001b[0;31mSpotifyException\u001b[0m: http status: 401, code:-1 - https://api.spotify.com/v1/users/seryu.lucky/starred:\n Unauthorized., reason: None"
     ]
    }
   ],
   "source": [
    "spotify.user_playlist('seryu.lucky')"
   ]
  },
  {
   "cell_type": "code",
   "execution_count": 35,
   "id": "b39f9aa6",
   "metadata": {
    "scrolled": true
   },
   "outputs": [
    {
     "ename": "AttributeError",
     "evalue": "'NoneType' object has no attribute 'split'",
     "output_type": "error",
     "traceback": [
      "\u001b[0;31m---------------------------------------------------------------------------\u001b[0m",
      "\u001b[0;31mAttributeError\u001b[0m                            Traceback (most recent call last)",
      "\u001b[0;32m/var/folders/86/_vdp0kq51j5bsxpm4yhzrknw0000gn/T/ipykernel_52222/1131933713.py\u001b[0m in \u001b[0;36m<module>\u001b[0;34m\u001b[0m\n\u001b[0;32m----> 1\u001b[0;31m \u001b[0mspotify\u001b[0m\u001b[0;34m.\u001b[0m\u001b[0muser_playlist_tracks\u001b[0m\u001b[0;34m(\u001b[0m\u001b[0muser\u001b[0m\u001b[0;34m=\u001b[0m\u001b[0;34m'seryu.lucky'\u001b[0m\u001b[0;34m)\u001b[0m\u001b[0;34m\u001b[0m\u001b[0;34m\u001b[0m\u001b[0m\n\u001b[0m",
      "\u001b[0;32m/usr/local/lib/python3.9/site-packages/spotipy/client.py\u001b[0m in \u001b[0;36muser_playlist_tracks\u001b[0;34m(self, user, playlist_id, fields, limit, offset, market)\u001b[0m\n\u001b[1;32m    745\u001b[0m                 \u001b[0;34m-\u001b[0m \u001b[0mmarket\u001b[0m \u001b[0;34m-\u001b[0m \u001b[0man\u001b[0m \u001b[0mISO\u001b[0m \u001b[0;36m3166\u001b[0m\u001b[0;34m-\u001b[0m\u001b[0;36m1\u001b[0m \u001b[0malpha\u001b[0m\u001b[0;34m-\u001b[0m\u001b[0;36m2\u001b[0m \u001b[0mcountry\u001b[0m \u001b[0mcode\u001b[0m\u001b[0;34m.\u001b[0m\u001b[0;34m\u001b[0m\u001b[0;34m\u001b[0m\u001b[0m\n\u001b[1;32m    746\u001b[0m         \"\"\"\n\u001b[0;32m--> 747\u001b[0;31m         return self.playlist_tracks(\n\u001b[0m\u001b[1;32m    748\u001b[0m             \u001b[0mplaylist_id\u001b[0m\u001b[0;34m,\u001b[0m\u001b[0;34m\u001b[0m\u001b[0;34m\u001b[0m\u001b[0m\n\u001b[1;32m    749\u001b[0m             \u001b[0mlimit\u001b[0m\u001b[0;34m=\u001b[0m\u001b[0mlimit\u001b[0m\u001b[0;34m,\u001b[0m\u001b[0;34m\u001b[0m\u001b[0;34m\u001b[0m\u001b[0m\n",
      "\u001b[0;32m/usr/local/lib/python3.9/site-packages/spotipy/client.py\u001b[0m in \u001b[0;36mplaylist_tracks\u001b[0;34m(self, playlist_id, fields, limit, offset, market, additional_types)\u001b[0m\n\u001b[1;32m    647\u001b[0m             \u001b[0mDeprecationWarning\u001b[0m\u001b[0;34m,\u001b[0m\u001b[0;34m\u001b[0m\u001b[0;34m\u001b[0m\u001b[0m\n\u001b[1;32m    648\u001b[0m         )\n\u001b[0;32m--> 649\u001b[0;31m         return self.playlist_items(playlist_id, fields, limit, offset,\n\u001b[0m\u001b[1;32m    650\u001b[0m                                    market, additional_types)\n\u001b[1;32m    651\u001b[0m \u001b[0;34m\u001b[0m\u001b[0m\n",
      "\u001b[0;32m/usr/local/lib/python3.9/site-packages/spotipy/client.py\u001b[0m in \u001b[0;36mplaylist_items\u001b[0;34m(self, playlist_id, fields, limit, offset, market, additional_types)\u001b[0m\n\u001b[1;32m    670\u001b[0m                                      \u001b[0mvalid\u001b[0m \u001b[0mtypes\u001b[0m \u001b[0mare\u001b[0m\u001b[0;34m:\u001b[0m \u001b[0mtrack\u001b[0m \u001b[0;32mand\u001b[0m \u001b[0mepisode\u001b[0m\u001b[0;34m\u001b[0m\u001b[0;34m\u001b[0m\u001b[0m\n\u001b[1;32m    671\u001b[0m         \"\"\"\n\u001b[0;32m--> 672\u001b[0;31m         \u001b[0mplid\u001b[0m \u001b[0;34m=\u001b[0m \u001b[0mself\u001b[0m\u001b[0;34m.\u001b[0m\u001b[0m_get_id\u001b[0m\u001b[0;34m(\u001b[0m\u001b[0;34m\"playlist\"\u001b[0m\u001b[0;34m,\u001b[0m \u001b[0mplaylist_id\u001b[0m\u001b[0;34m)\u001b[0m\u001b[0;34m\u001b[0m\u001b[0;34m\u001b[0m\u001b[0m\n\u001b[0m\u001b[1;32m    673\u001b[0m         return self._get(\n\u001b[1;32m    674\u001b[0m             \u001b[0;34m\"playlists/%s/tracks\"\u001b[0m \u001b[0;34m%\u001b[0m \u001b[0;34m(\u001b[0m\u001b[0mplid\u001b[0m\u001b[0;34m)\u001b[0m\u001b[0;34m,\u001b[0m\u001b[0;34m\u001b[0m\u001b[0;34m\u001b[0m\u001b[0m\n",
      "\u001b[0;32m/usr/local/lib/python3.9/site-packages/spotipy/client.py\u001b[0m in \u001b[0;36m_get_id\u001b[0;34m(self, type, id)\u001b[0m\n\u001b[1;32m   1909\u001b[0m \u001b[0;34m\u001b[0m\u001b[0m\n\u001b[1;32m   1910\u001b[0m     \u001b[0;32mdef\u001b[0m \u001b[0m_get_id\u001b[0m\u001b[0;34m(\u001b[0m\u001b[0mself\u001b[0m\u001b[0;34m,\u001b[0m \u001b[0mtype\u001b[0m\u001b[0;34m,\u001b[0m \u001b[0mid\u001b[0m\u001b[0;34m)\u001b[0m\u001b[0;34m:\u001b[0m\u001b[0;34m\u001b[0m\u001b[0;34m\u001b[0m\u001b[0m\n\u001b[0;32m-> 1911\u001b[0;31m         \u001b[0mfields\u001b[0m \u001b[0;34m=\u001b[0m \u001b[0mid\u001b[0m\u001b[0;34m.\u001b[0m\u001b[0msplit\u001b[0m\u001b[0;34m(\u001b[0m\u001b[0;34m\":\"\u001b[0m\u001b[0;34m)\u001b[0m\u001b[0;34m\u001b[0m\u001b[0;34m\u001b[0m\u001b[0m\n\u001b[0m\u001b[1;32m   1912\u001b[0m         \u001b[0;32mif\u001b[0m \u001b[0mlen\u001b[0m\u001b[0;34m(\u001b[0m\u001b[0mfields\u001b[0m\u001b[0;34m)\u001b[0m \u001b[0;34m>=\u001b[0m \u001b[0;36m3\u001b[0m\u001b[0;34m:\u001b[0m\u001b[0;34m\u001b[0m\u001b[0;34m\u001b[0m\u001b[0m\n\u001b[1;32m   1913\u001b[0m             \u001b[0;32mif\u001b[0m \u001b[0mtype\u001b[0m \u001b[0;34m!=\u001b[0m \u001b[0mfields\u001b[0m\u001b[0;34m[\u001b[0m\u001b[0;34m-\u001b[0m\u001b[0;36m2\u001b[0m\u001b[0;34m]\u001b[0m\u001b[0;34m:\u001b[0m\u001b[0;34m\u001b[0m\u001b[0;34m\u001b[0m\u001b[0m\n",
      "\u001b[0;31mAttributeError\u001b[0m: 'NoneType' object has no attribute 'split'"
     ]
    }
   ],
   "source": [
    "spotify.user_playlist_tracks(user='seryu.lucky')"
   ]
  },
  {
   "cell_type": "code",
   "execution_count": 26,
   "id": "4ed97ff4",
   "metadata": {},
   "outputs": [
    {
     "data": {
      "text/plain": [
       "{'href': 'https://api.spotify.com/v1/users/seryu.lucky/playlists?offset=0&limit=50',\n",
       " 'items': [{'collaborative': False,\n",
       "   'description': '',\n",
       "   'external_urls': {'spotify': 'https://open.spotify.com/playlist/7waL7cXE8rwtAclms7ujrx'},\n",
       "   'href': 'https://api.spotify.com/v1/playlists/7waL7cXE8rwtAclms7ujrx',\n",
       "   'id': '7waL7cXE8rwtAclms7ujrx',\n",
       "   'images': [{'height': 640,\n",
       "     'url': 'https://i.scdn.co/image/ab6765630000ba8a7225c18caa219a614fd38af7',\n",
       "     'width': 640}],\n",
       "   'name': 'ML Podcasts',\n",
       "   'owner': {'display_name': 'Jay',\n",
       "    'external_urls': {'spotify': 'https://open.spotify.com/user/seryu.lucky'},\n",
       "    'href': 'https://api.spotify.com/v1/users/seryu.lucky',\n",
       "    'id': 'seryu.lucky',\n",
       "    'type': 'user',\n",
       "    'uri': 'spotify:user:seryu.lucky'},\n",
       "   'primary_color': None,\n",
       "   'public': True,\n",
       "   'snapshot_id': 'MyxmYjI2MDgwZTFjNjQ0YjBkOTZhYzJjYzA2YmI4YmZhNzk2MTdjOTY2',\n",
       "   'tracks': {'href': 'https://api.spotify.com/v1/playlists/7waL7cXE8rwtAclms7ujrx/tracks',\n",
       "    'total': 2},\n",
       "   'type': 'playlist',\n",
       "   'uri': 'spotify:playlist:7waL7cXE8rwtAclms7ujrx'},\n",
       "  {'collaborative': False,\n",
       "   'description': '',\n",
       "   'external_urls': {'spotify': 'https://open.spotify.com/playlist/2UqZEx6pppqEC1c6UfQdKU'},\n",
       "   'href': 'https://api.spotify.com/v1/playlists/2UqZEx6pppqEC1c6UfQdKU',\n",
       "   'id': '2UqZEx6pppqEC1c6UfQdKU',\n",
       "   'images': [{'height': 640,\n",
       "     'url': 'https://mosaic.scdn.co/640/ab67616d0000b273af4a2c689cb26524a080ffecab67616d0000b273dc1e881b8bb3e6ca57e82fcdab67616d0000b273df82ce803b2a84ce68e66e6dab67616d0000b273fa16a0c513eeba24dd1832d4',\n",
       "     'width': 640},\n",
       "    {'height': 300,\n",
       "     'url': 'https://mosaic.scdn.co/300/ab67616d0000b273af4a2c689cb26524a080ffecab67616d0000b273dc1e881b8bb3e6ca57e82fcdab67616d0000b273df82ce803b2a84ce68e66e6dab67616d0000b273fa16a0c513eeba24dd1832d4',\n",
       "     'width': 300},\n",
       "    {'height': 60,\n",
       "     'url': 'https://mosaic.scdn.co/60/ab67616d0000b273af4a2c689cb26524a080ffecab67616d0000b273dc1e881b8bb3e6ca57e82fcdab67616d0000b273df82ce803b2a84ce68e66e6dab67616d0000b273fa16a0c513eeba24dd1832d4',\n",
       "     'width': 60}],\n",
       "   'name': 'Dancing',\n",
       "   'owner': {'display_name': 'Jay',\n",
       "    'external_urls': {'spotify': 'https://open.spotify.com/user/seryu.lucky'},\n",
       "    'href': 'https://api.spotify.com/v1/users/seryu.lucky',\n",
       "    'id': 'seryu.lucky',\n",
       "    'type': 'user',\n",
       "    'uri': 'spotify:user:seryu.lucky'},\n",
       "   'primary_color': None,\n",
       "   'public': True,\n",
       "   'snapshot_id': 'MTQsMmYwYjRmYTMxNjI3YWMxNWE4YjMzZDA2MTljNzc2YTMyMWMzN2QzNg==',\n",
       "   'tracks': {'href': 'https://api.spotify.com/v1/playlists/2UqZEx6pppqEC1c6UfQdKU/tracks',\n",
       "    'total': 5},\n",
       "   'type': 'playlist',\n",
       "   'uri': 'spotify:playlist:2UqZEx6pppqEC1c6UfQdKU'},\n",
       "  {'collaborative': False,\n",
       "   'description': '',\n",
       "   'external_urls': {'spotify': 'https://open.spotify.com/playlist/1LnWjLhhoGuRS3aIWYWxT9'},\n",
       "   'href': 'https://api.spotify.com/v1/playlists/1LnWjLhhoGuRS3aIWYWxT9',\n",
       "   'id': '1LnWjLhhoGuRS3aIWYWxT9',\n",
       "   'images': [{'height': 640,\n",
       "     'url': 'https://mosaic.scdn.co/640/ab67616d0000b27352ab2c1657a3e548ff021411ab67616d0000b27354bcaba0d19086dae545db62ab67616d0000b273a52fe6915b0dfdc979bb16a9ab67616d0000b273a9d6cfe11af5c27a56953331',\n",
       "     'width': 640},\n",
       "    {'height': 300,\n",
       "     'url': 'https://mosaic.scdn.co/300/ab67616d0000b27352ab2c1657a3e548ff021411ab67616d0000b27354bcaba0d19086dae545db62ab67616d0000b273a52fe6915b0dfdc979bb16a9ab67616d0000b273a9d6cfe11af5c27a56953331',\n",
       "     'width': 300},\n",
       "    {'height': 60,\n",
       "     'url': 'https://mosaic.scdn.co/60/ab67616d0000b27352ab2c1657a3e548ff021411ab67616d0000b27354bcaba0d19086dae545db62ab67616d0000b273a52fe6915b0dfdc979bb16a9ab67616d0000b273a9d6cfe11af5c27a56953331',\n",
       "     'width': 60}],\n",
       "   'name': 'Workout Anthems',\n",
       "   'owner': {'display_name': 'Jay',\n",
       "    'external_urls': {'spotify': 'https://open.spotify.com/user/seryu.lucky'},\n",
       "    'href': 'https://api.spotify.com/v1/users/seryu.lucky',\n",
       "    'id': 'seryu.lucky',\n",
       "    'type': 'user',\n",
       "    'uri': 'spotify:user:seryu.lucky'},\n",
       "   'primary_color': None,\n",
       "   'public': True,\n",
       "   'snapshot_id': 'MjIsNzdkOTFjODMzNzdiZDJhZTNkODJkMDNlOGEwMmRhMWNiZGUyMGIyZA==',\n",
       "   'tracks': {'href': 'https://api.spotify.com/v1/playlists/1LnWjLhhoGuRS3aIWYWxT9/tracks',\n",
       "    'total': 9},\n",
       "   'type': 'playlist',\n",
       "   'uri': 'spotify:playlist:1LnWjLhhoGuRS3aIWYWxT9'},\n",
       "  {'collaborative': False,\n",
       "   'description': '',\n",
       "   'external_urls': {'spotify': 'https://open.spotify.com/playlist/7n6Zc1Lnee8euBm5ZcuPca'},\n",
       "   'href': 'https://api.spotify.com/v1/playlists/7n6Zc1Lnee8euBm5ZcuPca',\n",
       "   'id': '7n6Zc1Lnee8euBm5ZcuPca',\n",
       "   'images': [{'height': 640,\n",
       "     'url': 'https://mosaic.scdn.co/640/ab67616d0000b27349caa4fc6f962057ba65576aab67616d0000b273664034dd80e91b28f773598dab67616d0000b2737ad65df023c98969d6bc4dbeab67616d0000b273ba26678947112dff3c3158bf',\n",
       "     'width': 640},\n",
       "    {'height': 300,\n",
       "     'url': 'https://mosaic.scdn.co/300/ab67616d0000b27349caa4fc6f962057ba65576aab67616d0000b273664034dd80e91b28f773598dab67616d0000b2737ad65df023c98969d6bc4dbeab67616d0000b273ba26678947112dff3c3158bf',\n",
       "     'width': 300},\n",
       "    {'height': 60,\n",
       "     'url': 'https://mosaic.scdn.co/60/ab67616d0000b27349caa4fc6f962057ba65576aab67616d0000b273664034dd80e91b28f773598dab67616d0000b2737ad65df023c98969d6bc4dbeab67616d0000b273ba26678947112dff3c3158bf',\n",
       "     'width': 60}],\n",
       "   'name': 'Singing',\n",
       "   'owner': {'display_name': 'Jay',\n",
       "    'external_urls': {'spotify': 'https://open.spotify.com/user/seryu.lucky'},\n",
       "    'href': 'https://api.spotify.com/v1/users/seryu.lucky',\n",
       "    'id': 'seryu.lucky',\n",
       "    'type': 'user',\n",
       "    'uri': 'spotify:user:seryu.lucky'},\n",
       "   'primary_color': None,\n",
       "   'public': True,\n",
       "   'snapshot_id': 'MjYsYTQyMjZmODc4NTE5ZjcxNTJiYmM0NzVhZDViZmJlNzE1ZGVmMTUyMw==',\n",
       "   'tracks': {'href': 'https://api.spotify.com/v1/playlists/7n6Zc1Lnee8euBm5ZcuPca/tracks',\n",
       "    'total': 6},\n",
       "   'type': 'playlist',\n",
       "   'uri': 'spotify:playlist:7n6Zc1Lnee8euBm5ZcuPca'},\n",
       "  {'collaborative': False,\n",
       "   'description': '',\n",
       "   'external_urls': {'spotify': 'https://open.spotify.com/playlist/3BPx97ukfBihob5VTec4aX'},\n",
       "   'href': 'https://api.spotify.com/v1/playlists/3BPx97ukfBihob5VTec4aX',\n",
       "   'id': '3BPx97ukfBihob5VTec4aX',\n",
       "   'images': [{'height': 640,\n",
       "     'url': 'https://mosaic.scdn.co/640/ab67616d0000b273a2ef30abcc11701922e2168cab67616d0000b273a91543c0ec0301cca07792dcab67616d0000b273cb5ec46d6f1d2cf8d36d3663ab67616d0000b273f8fa082806184fcb032d8e0a',\n",
       "     'width': 640},\n",
       "    {'height': 300,\n",
       "     'url': 'https://mosaic.scdn.co/300/ab67616d0000b273a2ef30abcc11701922e2168cab67616d0000b273a91543c0ec0301cca07792dcab67616d0000b273cb5ec46d6f1d2cf8d36d3663ab67616d0000b273f8fa082806184fcb032d8e0a',\n",
       "     'width': 300},\n",
       "    {'height': 60,\n",
       "     'url': 'https://mosaic.scdn.co/60/ab67616d0000b273a2ef30abcc11701922e2168cab67616d0000b273a91543c0ec0301cca07792dcab67616d0000b273cb5ec46d6f1d2cf8d36d3663ab67616d0000b273f8fa082806184fcb032d8e0a',\n",
       "     'width': 60}],\n",
       "   'name': 'League of Legends',\n",
       "   'owner': {'display_name': 'Jay',\n",
       "    'external_urls': {'spotify': 'https://open.spotify.com/user/seryu.lucky'},\n",
       "    'href': 'https://api.spotify.com/v1/users/seryu.lucky',\n",
       "    'id': 'seryu.lucky',\n",
       "    'type': 'user',\n",
       "    'uri': 'spotify:user:seryu.lucky'},\n",
       "   'primary_color': None,\n",
       "   'public': True,\n",
       "   'snapshot_id': 'OCw5OWVlMjQ3N2QxNWQ3MDIyZjUzMDU4OTYwYzUyZWZjYTc1ZDgzMjZh',\n",
       "   'tracks': {'href': 'https://api.spotify.com/v1/playlists/3BPx97ukfBihob5VTec4aX/tracks',\n",
       "    'total': 6},\n",
       "   'type': 'playlist',\n",
       "   'uri': 'spotify:playlist:3BPx97ukfBihob5VTec4aX'},\n",
       "  {'collaborative': False,\n",
       "   'description': '',\n",
       "   'external_urls': {'spotify': 'https://open.spotify.com/playlist/5GGuKKqx3EDj7rMjhqjrHF'},\n",
       "   'href': 'https://api.spotify.com/v1/playlists/5GGuKKqx3EDj7rMjhqjrHF',\n",
       "   'id': '5GGuKKqx3EDj7rMjhqjrHF',\n",
       "   'images': [{'height': 640,\n",
       "     'url': 'https://mosaic.scdn.co/640/ab67616d0000b273072a21c666bf2f7b3fababefab67616d0000b2734277da4c011dcc87f012bbabab67616d0000b273caf82abb2338880577e472beab67616d0000b273dc1e881b8bb3e6ca57e82fcd',\n",
       "     'width': 640},\n",
       "    {'height': 300,\n",
       "     'url': 'https://mosaic.scdn.co/300/ab67616d0000b273072a21c666bf2f7b3fababefab67616d0000b2734277da4c011dcc87f012bbabab67616d0000b273caf82abb2338880577e472beab67616d0000b273dc1e881b8bb3e6ca57e82fcd',\n",
       "     'width': 300},\n",
       "    {'height': 60,\n",
       "     'url': 'https://mosaic.scdn.co/60/ab67616d0000b273072a21c666bf2f7b3fababefab67616d0000b2734277da4c011dcc87f012bbabab67616d0000b273caf82abb2338880577e472beab67616d0000b273dc1e881b8bb3e6ca57e82fcd',\n",
       "     'width': 60}],\n",
       "   'name': 'Favorites',\n",
       "   'owner': {'display_name': 'Jay',\n",
       "    'external_urls': {'spotify': 'https://open.spotify.com/user/seryu.lucky'},\n",
       "    'href': 'https://api.spotify.com/v1/users/seryu.lucky',\n",
       "    'id': 'seryu.lucky',\n",
       "    'type': 'user',\n",
       "    'uri': 'spotify:user:seryu.lucky'},\n",
       "   'primary_color': None,\n",
       "   'public': True,\n",
       "   'snapshot_id': 'MTQ3LDE2YjlmMzZlNWJlOWY0NTY4ZWE3ZDkyMmFhMWYzYmVjNDgwMzI3ZmQ=',\n",
       "   'tracks': {'href': 'https://api.spotify.com/v1/playlists/5GGuKKqx3EDj7rMjhqjrHF/tracks',\n",
       "    'total': 26},\n",
       "   'type': 'playlist',\n",
       "   'uri': 'spotify:playlist:5GGuKKqx3EDj7rMjhqjrHF'},\n",
       "  {'collaborative': False,\n",
       "   'description': '',\n",
       "   'external_urls': {'spotify': 'https://open.spotify.com/playlist/182sjPd9b90MAe6C2mSg6S'},\n",
       "   'href': 'https://api.spotify.com/v1/playlists/182sjPd9b90MAe6C2mSg6S',\n",
       "   'id': '182sjPd9b90MAe6C2mSg6S',\n",
       "   'images': [{'height': 640,\n",
       "     'url': 'https://mosaic.scdn.co/640/ab67616d0000b27326a2f5224465a369f8abbf88ab67616d0000b27360eec5a0953d4a33d77ed71dab67616d0000b2738768194862912b9e3a69c726ab67616d0000b273de1a3a5eaa0c75bb18e7b597',\n",
       "     'width': 640},\n",
       "    {'height': 300,\n",
       "     'url': 'https://mosaic.scdn.co/300/ab67616d0000b27326a2f5224465a369f8abbf88ab67616d0000b27360eec5a0953d4a33d77ed71dab67616d0000b2738768194862912b9e3a69c726ab67616d0000b273de1a3a5eaa0c75bb18e7b597',\n",
       "     'width': 300},\n",
       "    {'height': 60,\n",
       "     'url': 'https://mosaic.scdn.co/60/ab67616d0000b27326a2f5224465a369f8abbf88ab67616d0000b27360eec5a0953d4a33d77ed71dab67616d0000b2738768194862912b9e3a69c726ab67616d0000b273de1a3a5eaa0c75bb18e7b597',\n",
       "     'width': 60}],\n",
       "   'name': 'Chill',\n",
       "   'owner': {'display_name': 'Jay',\n",
       "    'external_urls': {'spotify': 'https://open.spotify.com/user/seryu.lucky'},\n",
       "    'href': 'https://api.spotify.com/v1/users/seryu.lucky',\n",
       "    'id': 'seryu.lucky',\n",
       "    'type': 'user',\n",
       "    'uri': 'spotify:user:seryu.lucky'},\n",
       "   'primary_color': None,\n",
       "   'public': True,\n",
       "   'snapshot_id': 'MjU5LDgyMmI0NDk3YmMwNmEzMjUzNTQ2NjY0Zjg1Y2NiN2I3ZmRhMjlmMzM=',\n",
       "   'tracks': {'href': 'https://api.spotify.com/v1/playlists/182sjPd9b90MAe6C2mSg6S/tracks',\n",
       "    'total': 30},\n",
       "   'type': 'playlist',\n",
       "   'uri': 'spotify:playlist:182sjPd9b90MAe6C2mSg6S'},\n",
       "  {'collaborative': False,\n",
       "   'description': '',\n",
       "   'external_urls': {'spotify': 'https://open.spotify.com/playlist/5mZc5FQZthWMs3YO8TjFP2'},\n",
       "   'href': 'https://api.spotify.com/v1/playlists/5mZc5FQZthWMs3YO8TjFP2',\n",
       "   'id': '5mZc5FQZthWMs3YO8TjFP2',\n",
       "   'images': [{'height': 640,\n",
       "     'url': 'https://mosaic.scdn.co/640/ab67616d0000b2730fb357803ecc0c8560cb0eb7ab67616d0000b273501b5db11b7fe5172a7506d0ab67616d0000b273c6ab1ae4ac5b3ab1c87a4bbfab67616d0000b273fc6bd25261ead19bcd0f1bc6',\n",
       "     'width': 640},\n",
       "    {'height': 300,\n",
       "     'url': 'https://mosaic.scdn.co/300/ab67616d0000b2730fb357803ecc0c8560cb0eb7ab67616d0000b273501b5db11b7fe5172a7506d0ab67616d0000b273c6ab1ae4ac5b3ab1c87a4bbfab67616d0000b273fc6bd25261ead19bcd0f1bc6',\n",
       "     'width': 300},\n",
       "    {'height': 60,\n",
       "     'url': 'https://mosaic.scdn.co/60/ab67616d0000b2730fb357803ecc0c8560cb0eb7ab67616d0000b273501b5db11b7fe5172a7506d0ab67616d0000b273c6ab1ae4ac5b3ab1c87a4bbfab67616d0000b273fc6bd25261ead19bcd0f1bc6',\n",
       "     'width': 60}],\n",
       "   'name': '华语',\n",
       "   'owner': {'display_name': 'Jay',\n",
       "    'external_urls': {'spotify': 'https://open.spotify.com/user/seryu.lucky'},\n",
       "    'href': 'https://api.spotify.com/v1/users/seryu.lucky',\n",
       "    'id': 'seryu.lucky',\n",
       "    'type': 'user',\n",
       "    'uri': 'spotify:user:seryu.lucky'},\n",
       "   'primary_color': None,\n",
       "   'public': True,\n",
       "   'snapshot_id': 'NjksNDUwZGJmZDI1Nzc1ZmYyMzVjZjNkMTU4M2YyYWU0YTMxNjZjZTM4Yg==',\n",
       "   'tracks': {'href': 'https://api.spotify.com/v1/playlists/5mZc5FQZthWMs3YO8TjFP2/tracks',\n",
       "    'total': 5},\n",
       "   'type': 'playlist',\n",
       "   'uri': 'spotify:playlist:5mZc5FQZthWMs3YO8TjFP2'},\n",
       "  {'collaborative': False,\n",
       "   'description': '',\n",
       "   'external_urls': {'spotify': 'https://open.spotify.com/playlist/69Eqa1qdCbhM2rLYcYSTxA'},\n",
       "   'href': 'https://api.spotify.com/v1/playlists/69Eqa1qdCbhM2rLYcYSTxA',\n",
       "   'id': '69Eqa1qdCbhM2rLYcYSTxA',\n",
       "   'images': [{'height': 640,\n",
       "     'url': 'https://mosaic.scdn.co/640/ab67616d0000b273156119e6c15e1c9c95325337ab67616d0000b2732c3bb66e6a32922f6e29513cab67616d0000b2738be1a3ee3a36fb04d0bf909dab67616d0000b273ef872d359656a0bd24203636',\n",
       "     'width': 640},\n",
       "    {'height': 300,\n",
       "     'url': 'https://mosaic.scdn.co/300/ab67616d0000b273156119e6c15e1c9c95325337ab67616d0000b2732c3bb66e6a32922f6e29513cab67616d0000b2738be1a3ee3a36fb04d0bf909dab67616d0000b273ef872d359656a0bd24203636',\n",
       "     'width': 300},\n",
       "    {'height': 60,\n",
       "     'url': 'https://mosaic.scdn.co/60/ab67616d0000b273156119e6c15e1c9c95325337ab67616d0000b2732c3bb66e6a32922f6e29513cab67616d0000b2738be1a3ee3a36fb04d0bf909dab67616d0000b273ef872d359656a0bd24203636',\n",
       "     'width': 60}],\n",
       "   'name': 'Accordion',\n",
       "   'owner': {'display_name': 'Jay',\n",
       "    'external_urls': {'spotify': 'https://open.spotify.com/user/seryu.lucky'},\n",
       "    'href': 'https://api.spotify.com/v1/users/seryu.lucky',\n",
       "    'id': 'seryu.lucky',\n",
       "    'type': 'user',\n",
       "    'uri': 'spotify:user:seryu.lucky'},\n",
       "   'primary_color': None,\n",
       "   'public': True,\n",
       "   'snapshot_id': 'MTUwLDI3YTk5YzcxNTE0MjZiZjhmYTg1NTYzZTBiYzRlYzdkNGIyYTFlMmU=',\n",
       "   'tracks': {'href': 'https://api.spotify.com/v1/playlists/69Eqa1qdCbhM2rLYcYSTxA/tracks',\n",
       "    'total': 5},\n",
       "   'type': 'playlist',\n",
       "   'uri': 'spotify:playlist:69Eqa1qdCbhM2rLYcYSTxA'},\n",
       "  {'collaborative': False,\n",
       "   'description': '',\n",
       "   'external_urls': {'spotify': 'https://open.spotify.com/playlist/5UdUOrNoYnVE7u1YiOJQGr'},\n",
       "   'href': 'https://api.spotify.com/v1/playlists/5UdUOrNoYnVE7u1YiOJQGr',\n",
       "   'id': '5UdUOrNoYnVE7u1YiOJQGr',\n",
       "   'images': [{'height': 640,\n",
       "     'url': 'https://mosaic.scdn.co/640/ab67616d0000b27302b67fb6ae65fdf94e8b9bedab67616d0000b2730bdf4dd39843ad48c5b66bc4ab67616d0000b273597905f8f46dfc60f5a6d11fab67616d0000b2737cbbcc485b379dfdab5f5a16',\n",
       "     'width': 640},\n",
       "    {'height': 300,\n",
       "     'url': 'https://mosaic.scdn.co/300/ab67616d0000b27302b67fb6ae65fdf94e8b9bedab67616d0000b2730bdf4dd39843ad48c5b66bc4ab67616d0000b273597905f8f46dfc60f5a6d11fab67616d0000b2737cbbcc485b379dfdab5f5a16',\n",
       "     'width': 300},\n",
       "    {'height': 60,\n",
       "     'url': 'https://mosaic.scdn.co/60/ab67616d0000b27302b67fb6ae65fdf94e8b9bedab67616d0000b2730bdf4dd39843ad48c5b66bc4ab67616d0000b273597905f8f46dfc60f5a6d11fab67616d0000b2737cbbcc485b379dfdab5f5a16',\n",
       "     'width': 60}],\n",
       "   'name': 'Others',\n",
       "   'owner': {'display_name': 'Jay',\n",
       "    'external_urls': {'spotify': 'https://open.spotify.com/user/seryu.lucky'},\n",
       "    'href': 'https://api.spotify.com/v1/users/seryu.lucky',\n",
       "    'id': 'seryu.lucky',\n",
       "    'type': 'user',\n",
       "    'uri': 'spotify:user:seryu.lucky'},\n",
       "   'primary_color': None,\n",
       "   'public': True,\n",
       "   'snapshot_id': 'MzQ4LDdjODUxODg2MDNkNGM2NDAxMTEzNTFmYTgyODY4N2RiOTEyZGZhMDM=',\n",
       "   'tracks': {'href': 'https://api.spotify.com/v1/playlists/5UdUOrNoYnVE7u1YiOJQGr/tracks',\n",
       "    'total': 31},\n",
       "   'type': 'playlist',\n",
       "   'uri': 'spotify:playlist:5UdUOrNoYnVE7u1YiOJQGr'}],\n",
       " 'limit': 50,\n",
       " 'next': None,\n",
       " 'offset': 0,\n",
       " 'previous': None,\n",
       " 'total': 10}"
      ]
     },
     "execution_count": 26,
     "metadata": {},
     "output_type": "execute_result"
    }
   ],
   "source": [
    "spotify.user_playlists('seryu.lucky')"
   ]
  },
  {
   "cell_type": "code",
   "execution_count": null,
   "id": "1dd6288b",
   "metadata": {},
   "outputs": [],
   "source": []
  }
 ],
 "metadata": {
  "kernelspec": {
   "display_name": "Python 3 (ipykernel)",
   "language": "python",
   "name": "python3"
  },
  "language_info": {
   "codemirror_mode": {
    "name": "ipython",
    "version": 3
   },
   "file_extension": ".py",
   "mimetype": "text/x-python",
   "name": "python",
   "nbconvert_exporter": "python",
   "pygments_lexer": "ipython3",
   "version": "3.9.7"
  }
 },
 "nbformat": 4,
 "nbformat_minor": 5
}
